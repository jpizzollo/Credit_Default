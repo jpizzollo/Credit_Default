{
 "cells": [
  {
   "cell_type": "markdown",
   "metadata": {},
   "source": [
    "#### Scratchpad updates:\n",
    "\n",
    "Data:  \n",
    " - SMOTE-upsampling\n",
    "\n",
    "Models:\n",
    " - 6 basic models, little tuning\n",
    " - exploring accuracy, precision, recall, f1\n"
   ]
  },
  {
   "cell_type": "code",
   "execution_count": 17,
   "metadata": {},
   "outputs": [],
   "source": [
    "import pandas as pd\n",
    "import numpy as np"
   ]
  },
  {
   "cell_type": "code",
   "execution_count": 18,
   "metadata": {},
   "outputs": [],
   "source": [
    "raw_df = pd.read_csv('credit_data.csv')"
   ]
  },
  {
   "cell_type": "code",
   "execution_count": 19,
   "metadata": {},
   "outputs": [],
   "source": [
    "# drop unneeded columns\n",
    "raw_df.drop(columns=['Unnamed: 0'], inplace=True)\n",
    "\n",
    "# current col names are X1, X2...add better col names\n",
    "columns = ['Limit','Sex','Education','Marriage','Age','Hist_6',\\\n",
    "           'Hist_5','Hist_4','Hist_3','Hist_2','Hist_1','Bill_6',\\\n",
    "           'Bill_5','Bill_4','Bill_3','Bill_2','Bill_1','Pay_6',\\\n",
    "           'Pay_5','Pay_4','Pay_3','Pay_2','Pay_1','Default']\n",
    "raw_df.columns = columns\n",
    "\n",
    "# drop header from first row\n",
    "raw_df = raw_df.drop([0]).reset_index()\n",
    "\n",
    "# re-order the columns\n",
    "columns=['Default','Limit','Sex','Education','Marriage','Age',\\\n",
    "         'Bill_1','Bill_2','Bill_3','Bill_4','Bill_5','Bill_6',\\\n",
    "         'Pay_1','Pay_2','Pay_3','Pay_4','Pay_5','Pay_6',\\\n",
    "         'Hist_1','Hist_2','Hist_3','Hist_4','Hist_5','Hist_6']\n",
    "raw_df = raw_df[columns]\n",
    "\n",
    "# replace encoded features with categorical values\n",
    "raw_df = raw_df.astype(int)\n",
    "raw_df['Sex'].replace([1,2],['Male','Female'], inplace=True)\n",
    "raw_df['Education'].replace([0,1,2,3,4,5,6],['Others','Graduate','University','High_School','Others','Others','Others'], inplace=True)\n",
    "raw_df['Marriage'].replace([0,1,2,3],['Others','Married','Single','Others'], inplace=True)"
   ]
  },
  {
   "cell_type": "code",
   "execution_count": 20,
   "metadata": {},
   "outputs": [
    {
     "data": {
      "text/html": [
       "<div>\n",
       "<style scoped>\n",
       "    .dataframe tbody tr th:only-of-type {\n",
       "        vertical-align: middle;\n",
       "    }\n",
       "\n",
       "    .dataframe tbody tr th {\n",
       "        vertical-align: top;\n",
       "    }\n",
       "\n",
       "    .dataframe thead th {\n",
       "        text-align: right;\n",
       "    }\n",
       "</style>\n",
       "<table border=\"1\" class=\"dataframe\">\n",
       "  <thead>\n",
       "    <tr style=\"text-align: right;\">\n",
       "      <th></th>\n",
       "      <th>Default</th>\n",
       "      <th>Limit</th>\n",
       "      <th>Sex</th>\n",
       "      <th>Education</th>\n",
       "      <th>Marriage</th>\n",
       "      <th>Age</th>\n",
       "      <th>Bill_1</th>\n",
       "      <th>Bill_2</th>\n",
       "      <th>Bill_3</th>\n",
       "      <th>Bill_4</th>\n",
       "      <th>...</th>\n",
       "      <th>Pay_3</th>\n",
       "      <th>Pay_4</th>\n",
       "      <th>Pay_5</th>\n",
       "      <th>Pay_6</th>\n",
       "      <th>Hist_1</th>\n",
       "      <th>Hist_2</th>\n",
       "      <th>Hist_3</th>\n",
       "      <th>Hist_4</th>\n",
       "      <th>Hist_5</th>\n",
       "      <th>Hist_6</th>\n",
       "    </tr>\n",
       "  </thead>\n",
       "  <tbody>\n",
       "    <tr>\n",
       "      <th>0</th>\n",
       "      <td>1</td>\n",
       "      <td>20000</td>\n",
       "      <td>Female</td>\n",
       "      <td>University</td>\n",
       "      <td>Married</td>\n",
       "      <td>24</td>\n",
       "      <td>0</td>\n",
       "      <td>0</td>\n",
       "      <td>0</td>\n",
       "      <td>689</td>\n",
       "      <td>...</td>\n",
       "      <td>0</td>\n",
       "      <td>0</td>\n",
       "      <td>689</td>\n",
       "      <td>0</td>\n",
       "      <td>-2</td>\n",
       "      <td>-2</td>\n",
       "      <td>-1</td>\n",
       "      <td>-1</td>\n",
       "      <td>2</td>\n",
       "      <td>2</td>\n",
       "    </tr>\n",
       "    <tr>\n",
       "      <th>1</th>\n",
       "      <td>1</td>\n",
       "      <td>120000</td>\n",
       "      <td>Female</td>\n",
       "      <td>University</td>\n",
       "      <td>Single</td>\n",
       "      <td>26</td>\n",
       "      <td>3261</td>\n",
       "      <td>3455</td>\n",
       "      <td>3272</td>\n",
       "      <td>2682</td>\n",
       "      <td>...</td>\n",
       "      <td>1000</td>\n",
       "      <td>1000</td>\n",
       "      <td>1000</td>\n",
       "      <td>0</td>\n",
       "      <td>2</td>\n",
       "      <td>0</td>\n",
       "      <td>0</td>\n",
       "      <td>0</td>\n",
       "      <td>2</td>\n",
       "      <td>-1</td>\n",
       "    </tr>\n",
       "    <tr>\n",
       "      <th>2</th>\n",
       "      <td>0</td>\n",
       "      <td>90000</td>\n",
       "      <td>Female</td>\n",
       "      <td>University</td>\n",
       "      <td>Single</td>\n",
       "      <td>34</td>\n",
       "      <td>15549</td>\n",
       "      <td>14948</td>\n",
       "      <td>14331</td>\n",
       "      <td>13559</td>\n",
       "      <td>...</td>\n",
       "      <td>1000</td>\n",
       "      <td>1000</td>\n",
       "      <td>1500</td>\n",
       "      <td>1518</td>\n",
       "      <td>0</td>\n",
       "      <td>0</td>\n",
       "      <td>0</td>\n",
       "      <td>0</td>\n",
       "      <td>0</td>\n",
       "      <td>0</td>\n",
       "    </tr>\n",
       "    <tr>\n",
       "      <th>3</th>\n",
       "      <td>0</td>\n",
       "      <td>50000</td>\n",
       "      <td>Female</td>\n",
       "      <td>University</td>\n",
       "      <td>Married</td>\n",
       "      <td>37</td>\n",
       "      <td>29547</td>\n",
       "      <td>28959</td>\n",
       "      <td>28314</td>\n",
       "      <td>49291</td>\n",
       "      <td>...</td>\n",
       "      <td>1100</td>\n",
       "      <td>1200</td>\n",
       "      <td>2019</td>\n",
       "      <td>2000</td>\n",
       "      <td>0</td>\n",
       "      <td>0</td>\n",
       "      <td>0</td>\n",
       "      <td>0</td>\n",
       "      <td>0</td>\n",
       "      <td>0</td>\n",
       "    </tr>\n",
       "    <tr>\n",
       "      <th>4</th>\n",
       "      <td>0</td>\n",
       "      <td>50000</td>\n",
       "      <td>Male</td>\n",
       "      <td>University</td>\n",
       "      <td>Married</td>\n",
       "      <td>57</td>\n",
       "      <td>19131</td>\n",
       "      <td>19146</td>\n",
       "      <td>20940</td>\n",
       "      <td>35835</td>\n",
       "      <td>...</td>\n",
       "      <td>9000</td>\n",
       "      <td>10000</td>\n",
       "      <td>36681</td>\n",
       "      <td>2000</td>\n",
       "      <td>0</td>\n",
       "      <td>0</td>\n",
       "      <td>0</td>\n",
       "      <td>-1</td>\n",
       "      <td>0</td>\n",
       "      <td>-1</td>\n",
       "    </tr>\n",
       "    <tr>\n",
       "      <th>...</th>\n",
       "      <td>...</td>\n",
       "      <td>...</td>\n",
       "      <td>...</td>\n",
       "      <td>...</td>\n",
       "      <td>...</td>\n",
       "      <td>...</td>\n",
       "      <td>...</td>\n",
       "      <td>...</td>\n",
       "      <td>...</td>\n",
       "      <td>...</td>\n",
       "      <td>...</td>\n",
       "      <td>...</td>\n",
       "      <td>...</td>\n",
       "      <td>...</td>\n",
       "      <td>...</td>\n",
       "      <td>...</td>\n",
       "      <td>...</td>\n",
       "      <td>...</td>\n",
       "      <td>...</td>\n",
       "      <td>...</td>\n",
       "      <td>...</td>\n",
       "    </tr>\n",
       "    <tr>\n",
       "      <th>29995</th>\n",
       "      <td>0</td>\n",
       "      <td>220000</td>\n",
       "      <td>Male</td>\n",
       "      <td>High_School</td>\n",
       "      <td>Married</td>\n",
       "      <td>39</td>\n",
       "      <td>15980</td>\n",
       "      <td>31237</td>\n",
       "      <td>88004</td>\n",
       "      <td>208365</td>\n",
       "      <td>...</td>\n",
       "      <td>3047</td>\n",
       "      <td>5003</td>\n",
       "      <td>20000</td>\n",
       "      <td>8500</td>\n",
       "      <td>0</td>\n",
       "      <td>0</td>\n",
       "      <td>0</td>\n",
       "      <td>0</td>\n",
       "      <td>0</td>\n",
       "      <td>0</td>\n",
       "    </tr>\n",
       "    <tr>\n",
       "      <th>29996</th>\n",
       "      <td>0</td>\n",
       "      <td>150000</td>\n",
       "      <td>Male</td>\n",
       "      <td>High_School</td>\n",
       "      <td>Single</td>\n",
       "      <td>43</td>\n",
       "      <td>0</td>\n",
       "      <td>5190</td>\n",
       "      <td>8979</td>\n",
       "      <td>3502</td>\n",
       "      <td>...</td>\n",
       "      <td>129</td>\n",
       "      <td>8998</td>\n",
       "      <td>3526</td>\n",
       "      <td>1837</td>\n",
       "      <td>0</td>\n",
       "      <td>0</td>\n",
       "      <td>-1</td>\n",
       "      <td>-1</td>\n",
       "      <td>-1</td>\n",
       "      <td>-1</td>\n",
       "    </tr>\n",
       "    <tr>\n",
       "      <th>29997</th>\n",
       "      <td>1</td>\n",
       "      <td>30000</td>\n",
       "      <td>Male</td>\n",
       "      <td>University</td>\n",
       "      <td>Single</td>\n",
       "      <td>37</td>\n",
       "      <td>19357</td>\n",
       "      <td>20582</td>\n",
       "      <td>20878</td>\n",
       "      <td>2758</td>\n",
       "      <td>...</td>\n",
       "      <td>4200</td>\n",
       "      <td>22000</td>\n",
       "      <td>0</td>\n",
       "      <td>0</td>\n",
       "      <td>0</td>\n",
       "      <td>0</td>\n",
       "      <td>-1</td>\n",
       "      <td>2</td>\n",
       "      <td>3</td>\n",
       "      <td>4</td>\n",
       "    </tr>\n",
       "    <tr>\n",
       "      <th>29998</th>\n",
       "      <td>1</td>\n",
       "      <td>80000</td>\n",
       "      <td>Male</td>\n",
       "      <td>High_School</td>\n",
       "      <td>Married</td>\n",
       "      <td>41</td>\n",
       "      <td>48944</td>\n",
       "      <td>11855</td>\n",
       "      <td>52774</td>\n",
       "      <td>76304</td>\n",
       "      <td>...</td>\n",
       "      <td>1926</td>\n",
       "      <td>1178</td>\n",
       "      <td>3409</td>\n",
       "      <td>85900</td>\n",
       "      <td>-1</td>\n",
       "      <td>0</td>\n",
       "      <td>0</td>\n",
       "      <td>0</td>\n",
       "      <td>-1</td>\n",
       "      <td>1</td>\n",
       "    </tr>\n",
       "    <tr>\n",
       "      <th>29999</th>\n",
       "      <td>1</td>\n",
       "      <td>50000</td>\n",
       "      <td>Male</td>\n",
       "      <td>University</td>\n",
       "      <td>Married</td>\n",
       "      <td>46</td>\n",
       "      <td>15313</td>\n",
       "      <td>32428</td>\n",
       "      <td>36535</td>\n",
       "      <td>49764</td>\n",
       "      <td>...</td>\n",
       "      <td>1000</td>\n",
       "      <td>1430</td>\n",
       "      <td>1800</td>\n",
       "      <td>2078</td>\n",
       "      <td>0</td>\n",
       "      <td>0</td>\n",
       "      <td>0</td>\n",
       "      <td>0</td>\n",
       "      <td>0</td>\n",
       "      <td>0</td>\n",
       "    </tr>\n",
       "  </tbody>\n",
       "</table>\n",
       "<p>30000 rows × 24 columns</p>\n",
       "</div>"
      ],
      "text/plain": [
       "       Default   Limit     Sex    Education Marriage  Age  Bill_1  Bill_2  \\\n",
       "0            1   20000  Female   University  Married   24       0       0   \n",
       "1            1  120000  Female   University   Single   26    3261    3455   \n",
       "2            0   90000  Female   University   Single   34   15549   14948   \n",
       "3            0   50000  Female   University  Married   37   29547   28959   \n",
       "4            0   50000    Male   University  Married   57   19131   19146   \n",
       "...        ...     ...     ...          ...      ...  ...     ...     ...   \n",
       "29995        0  220000    Male  High_School  Married   39   15980   31237   \n",
       "29996        0  150000    Male  High_School   Single   43       0    5190   \n",
       "29997        1   30000    Male   University   Single   37   19357   20582   \n",
       "29998        1   80000    Male  High_School  Married   41   48944   11855   \n",
       "29999        1   50000    Male   University  Married   46   15313   32428   \n",
       "\n",
       "       Bill_3  Bill_4  ...  Pay_3  Pay_4  Pay_5  Pay_6  Hist_1  Hist_2  \\\n",
       "0           0     689  ...      0      0    689      0      -2      -2   \n",
       "1        3272    2682  ...   1000   1000   1000      0       2       0   \n",
       "2       14331   13559  ...   1000   1000   1500   1518       0       0   \n",
       "3       28314   49291  ...   1100   1200   2019   2000       0       0   \n",
       "4       20940   35835  ...   9000  10000  36681   2000       0       0   \n",
       "...       ...     ...  ...    ...    ...    ...    ...     ...     ...   \n",
       "29995   88004  208365  ...   3047   5003  20000   8500       0       0   \n",
       "29996    8979    3502  ...    129   8998   3526   1837       0       0   \n",
       "29997   20878    2758  ...   4200  22000      0      0       0       0   \n",
       "29998   52774   76304  ...   1926   1178   3409  85900      -1       0   \n",
       "29999   36535   49764  ...   1000   1430   1800   2078       0       0   \n",
       "\n",
       "       Hist_3  Hist_4  Hist_5  Hist_6  \n",
       "0          -1      -1       2       2  \n",
       "1           0       0       2      -1  \n",
       "2           0       0       0       0  \n",
       "3           0       0       0       0  \n",
       "4           0      -1       0      -1  \n",
       "...       ...     ...     ...     ...  \n",
       "29995       0       0       0       0  \n",
       "29996      -1      -1      -1      -1  \n",
       "29997      -1       2       3       4  \n",
       "29998       0       0      -1       1  \n",
       "29999       0       0       0       0  \n",
       "\n",
       "[30000 rows x 24 columns]"
      ]
     },
     "execution_count": 20,
     "metadata": {},
     "output_type": "execute_result"
    }
   ],
   "source": [
    "raw_df"
   ]
  },
  {
   "cell_type": "markdown",
   "metadata": {},
   "source": [
    "## Look at class balance"
   ]
  },
  {
   "cell_type": "code",
   "execution_count": 21,
   "metadata": {},
   "outputs": [
    {
     "name": "stdout",
     "output_type": "stream",
     "text": [
      "percent default cases = \t22.12%\n",
      "number non-default cases = \t23364\n",
      "number default cases = \t\t6636\n"
     ]
    },
    {
     "data": {
      "image/png": "[encoded data removed]",
      "text/plain": [
       "<Figure size 432x288 with 1 Axes>"
      ]
     },
     "metadata": {
      "needs_background": "light"
     },
     "output_type": "display_data"
    }
   ],
   "source": [
    "import matplotlib.pyplot as plt\n",
    "plt.hist(raw_df['Default']);\n",
    "print('percent default cases = \\t{}%'.format(100*(raw_df['Default'] == 1).sum() / len(raw_df)))\n",
    "print('number non-default cases = \\t{}'.format((raw_df['Default'] == 0).sum()))\n",
    "print('number default cases = \\t\\t{}'.format((raw_df['Default'] == 1).sum()))"
   ]
  },
  {
   "cell_type": "markdown",
   "metadata": {},
   "source": [
    "## Split Train, test, val"
   ]
  },
  {
   "cell_type": "code",
   "execution_count": 22,
   "metadata": {},
   "outputs": [],
   "source": [
    "# Separate train, val, and test data\n",
    "\n",
    "from sklearn.model_selection import train_test_split\n",
    "\n",
    "# Separate features from label\n",
    "X = raw_df.drop(columns='Default')\n",
    "y = raw_df['Default']\n",
    "\n",
    "# Hold out 20% test data\n",
    "X_train, x_test, y_train, y_test = train_test_split(X, y, test_size=0.2, random_state=4444)\n",
    "\n",
    "# Hold out 25% of remainder for validation\n",
    "X_train, x_val, y_train, y_val = train_test_split(X_train, y_train, test_size=0.25, random_state=4444)"
   ]
  },
  {
   "cell_type": "markdown",
   "metadata": {},
   "source": [
    "## Create dummies"
   ]
  },
  {
   "cell_type": "code",
   "execution_count": 23,
   "metadata": {},
   "outputs": [],
   "source": [
    "# One hot encode categoricals for Train, (Val- skip), and Test sets\n",
    "\n",
    "from sklearn.preprocessing import OneHotEncoder\n",
    "\n",
    "# Define the categoricals\n",
    "categoricals = ['Sex','Education','Marriage']\n",
    "\n",
    "#\n",
    "# Train data\n",
    "#\n",
    "# Initialize\n",
    "ohe = OneHotEncoder(sparse=False)\n",
    "# Create a matrix of encoded variables\n",
    "cat_matrix_train = ohe.fit_transform(X_train.loc[:, categoricals])\n",
    "# Turn the matrix into a dataframe\n",
    "X_train_ohe = pd.DataFrame(cat_matrix_train,\n",
    "                           columns=ohe.get_feature_names(categoricals), # use real column names\n",
    "                           index=X_train.index) # get index position form training data\n",
    "# Combine encoded categoricals with the numeric training data\n",
    "X_train_preprocessed = pd.concat([X_train.drop(columns=categoricals), X_train_ohe], axis=1)\n",
    "\n",
    "#\n",
    "# Val data - don't need when doing kfold cross val\n",
    "#\n",
    "ohe = OneHotEncoder(sparse=False)\n",
    "cat_matrix_val = ohe.fit_transform(x_val.loc[:, categoricals])\n",
    "x_val_ohe = pd.DataFrame(cat_matrix_val,\n",
    "                           columns=ohe.get_feature_names(categoricals),\n",
    "                           index=x_val.index)\n",
    "x_val_preprocessed = pd.concat([x_val.drop(columns=categoricals), x_val_ohe], axis=1)\n",
    "\n",
    "#\n",
    "# Test data\n",
    "#\n",
    "ohe = OneHotEncoder(sparse=False)\n",
    "cat_matrix_test = ohe.fit_transform(x_test.loc[:, categoricals])\n",
    "x_test_ohe = pd.DataFrame(cat_matrix_test,\n",
    "                           columns=ohe.get_feature_names(categoricals),\n",
    "                           index=x_test.index)\n",
    "x_test_preprocessed = pd.concat([x_test.drop(columns=categoricals), x_test_ohe], axis=1)"
   ]
  },
  {
   "cell_type": "markdown",
   "metadata": {},
   "source": [
    "## Upsample training set with SMOTE"
   ]
  },
  {
   "cell_type": "code",
   "execution_count": 24,
   "metadata": {},
   "outputs": [],
   "source": [
    "from imblearn.over_sampling import SMOTE\n",
    "X_up_train_preprocessed, y_up_train = SMOTE(random_state=42).fit_sample(X_train_preprocessed, y_train)"
   ]
  },
  {
   "cell_type": "code",
   "execution_count": 25,
   "metadata": {},
   "outputs": [
    {
     "data": {
      "text/plain": [
       "Counter({1: 14016, 0: 14016})"
      ]
     },
     "execution_count": 25,
     "metadata": {},
     "output_type": "execute_result"
    }
   ],
   "source": [
    "from collections import Counter\n",
    "Counter(y_up_train)"
   ]
  },
  {
   "cell_type": "markdown",
   "metadata": {},
   "source": [
    "## Scale"
   ]
  },
  {
   "cell_type": "code",
   "execution_count": 26,
   "metadata": {},
   "outputs": [],
   "source": [
    "# Scale data\n",
    "from sklearn.preprocessing import StandardScaler\n",
    "\n",
    "scaler = StandardScaler()\n",
    "scaler.fit(X_up_train_preprocessed)\n",
    "X_up_train_preprocessed_scaled = scaler.transform(X_up_train_preprocessed)\n",
    "x_val_preprocessed_scaled = scaler.transform(x_val_preprocessed)\n",
    "x_test_preprocessed_scaled = scaler.transform(x_test_preprocessed)"
   ]
  },
  {
   "cell_type": "markdown",
   "metadata": {},
   "source": [
    "## KNN (k: 1-20)"
   ]
  },
  {
   "cell_type": "code",
   "execution_count": null,
   "metadata": {},
   "outputs": [],
   "source": [
    "# KNN\n",
    "from sklearn.neighbors import KNeighborsClassifier\n",
    "from sklearn import metrics\n",
    "\n",
    "k_val=[]\n",
    "acc_val=[]\n",
    "prec_val=[]\n",
    "rec_val=[]\n",
    "\n",
    "for k in range(1,21):\n",
    "    knn = KNeighborsClassifier(n_neighbors=k)\n",
    "    knn.fit(X_up_train_preprocessed_scaled, y_up_train)\n",
    "    pred = knn.predict(x_val_preprocessed_scaled)\n",
    "    k_val.append(k)\n",
    "    acc_val.append(metrics.accuracy_score(y_val, pred))\n",
    "    prec_val.append(metrics.precision_score(y_val, pred))\n",
    "    rec_val.append(metrics.recall_score(y_val, pred))\n",
    "\n",
    "knn_val_scores = pd.DataFrame(list(zip(k_val, acc_val, prec_val, rec_val)),\\\n",
    "                              columns=['k','acc', 'prec', 'rec'])"
   ]
  },
  {
   "cell_type": "code",
   "execution_count": null,
   "metadata": {},
   "outputs": [],
   "source": [
    "import pickle\n",
    "\n",
    "# Pickle the knn scores\n",
    "with open('knn_val_v1_sm.pickle', 'wb') as to_write:\n",
    "    pickle.dump(knn_val_scores, to_write)"
   ]
  },
  {
   "cell_type": "code",
   "execution_count": null,
   "metadata": {},
   "outputs": [],
   "source": [
    "# Read\n",
    "import pickle\n",
    "with open('knn_val_v1_sm.pickle','rb') as read_file:\n",
    "    knn_val_scores = pickle.load(read_file)"
   ]
  },
  {
   "cell_type": "code",
   "execution_count": null,
   "metadata": {},
   "outputs": [],
   "source": [
    "knn_val_scores"
   ]
  },
  {
   "cell_type": "code",
   "execution_count": null,
   "metadata": {},
   "outputs": [],
   "source": [
    "max_k = k_val[np.argmax(acc_val)]"
   ]
  },
  {
   "cell_type": "code",
   "execution_count": null,
   "metadata": {},
   "outputs": [],
   "source": []
  },
  {
   "cell_type": "markdown",
   "metadata": {},
   "source": [
    "## Assess performance of different models"
   ]
  },
  {
   "cell_type": "code",
   "execution_count": null,
   "metadata": {},
   "outputs": [],
   "source": [
    "\n",
    "model_list = []\n",
    "scores_list = []\n",
    "fit_models = []\n",
    "\n",
    "from sklearn.neighbors import KNeighborsClassifier\n",
    "knn = KNeighborsClassifier(n_neighbors=max_k)\n",
    "knn.fit(X_up_train_preprocessed_scaled, y_up_train)\n",
    "knn_score = knn.score(x_val_preprocessed_scaled,y_val)\n",
    "model_list.append('KNN')\n",
    "scores_list.append(knn_score)\n",
    "fit_models.append(knn)\n",
    "\n",
    "from sklearn.linear_model import LogisticRegression\n",
    "lr = LogisticRegression()\n",
    "lr.fit(X_up_train_preprocessed, y_up_train)\n",
    "lr_score = lr.score(x_val_preprocessed,y_val)\n",
    "model_list.append('LR')\n",
    "scores_list.append(lr_score)\n",
    "fit_models.append(lr)\n",
    "\n",
    "from sklearn.naive_bayes import GaussianNB\n",
    "nb = GaussianNB()\n",
    "nb.fit(X_up_train_preprocessed, y_up_train)\n",
    "nb_score = nb.score(x_val_preprocessed,y_val)\n",
    "model_list.append('NB')\n",
    "scores_list.append(nb_score)\n",
    "fit_models.append(nb)\n",
    "\n",
    "from sklearn.svm import SVC\n",
    "svc = SVC(probability=True)\n",
    "svc.fit(X_up_train_preprocessed_scaled, y_up_train)\n",
    "svc_score = svc.score(x_val_preprocessed_scaled,y_val)\n",
    "model_list.append('SVC')\n",
    "scores_list.append(svc_score)\n",
    "fit_models.append(svc)\n",
    "    \n",
    "from sklearn.tree import DecisionTreeClassifier\n",
    "dt = DecisionTreeClassifier()\n",
    "dt.fit(X_up_train_preprocessed, y_up_train)\n",
    "dt_score = dt.score(x_val_preprocessed,y_val)\n",
    "model_list.append('DT')\n",
    "scores_list.append(dt_score)\n",
    "fit_models.append(dt)         \n",
    "    \n",
    "from sklearn.ensemble import RandomForestClassifier\n",
    "rf = RandomForestClassifier()\n",
    "rf.fit(X_up_train_preprocessed, y_up_train)\n",
    "rf_score = rf.score(x_val_preprocessed,y_val)\n",
    "model_list.append('RF')\n",
    "scores_list.append(rf_score)\n",
    "fit_models.append(rf)            \n",
    "    \n",
    "six_basic_models_val = pd.DataFrame(list(zip(model_list, scores_list)),\\\n",
    "                              columns=['model','acc'])\n"
   ]
  },
  {
   "cell_type": "code",
   "execution_count": null,
   "metadata": {},
   "outputs": [],
   "source": [
    "import pickle\n",
    "# pickle the scores\n",
    "with open('six_models_v1_sm.pickle', 'wb') as to_write:\n",
    "    pickle.dump(six_basic_models_val, to_write)"
   ]
  },
  {
   "cell_type": "code",
   "execution_count": null,
   "metadata": {},
   "outputs": [],
   "source": [
    "# pickle the models\n",
    "with open('six_fit_models_v1_sm.pickle', 'wb') as to_write:\n",
    "    pickle.dump(fit_models, to_write)"
   ]
  },
  {
   "cell_type": "code",
   "execution_count": 1,
   "metadata": {},
   "outputs": [],
   "source": [
    "# Read the scores\n",
    "import pickle\n",
    "with open('six_models_v1_sm.pickle','rb') as read_file:\n",
    "    six_basic_models_val = pickle.load(read_file)"
   ]
  },
  {
   "cell_type": "code",
   "execution_count": 2,
   "metadata": {},
   "outputs": [],
   "source": [
    "# Read the models\n",
    "import pickle\n",
    "with open('six_fit_models_v1_sm.pickle','rb') as read_file:\n",
    "    fit_models = pickle.load(read_file)"
   ]
  },
  {
   "cell_type": "code",
   "execution_count": 3,
   "metadata": {},
   "outputs": [
    {
     "data": {
      "text/html": [
       "<div>\n",
       "<style scoped>\n",
       "    .dataframe tbody tr th:only-of-type {\n",
       "        vertical-align: middle;\n",
       "    }\n",
       "\n",
       "    .dataframe tbody tr th {\n",
       "        vertical-align: top;\n",
       "    }\n",
       "\n",
       "    .dataframe thead th {\n",
       "        text-align: right;\n",
       "    }\n",
       "</style>\n",
       "<table border=\"1\" class=\"dataframe\">\n",
       "  <thead>\n",
       "    <tr style=\"text-align: right;\">\n",
       "      <th></th>\n",
       "      <th>model</th>\n",
       "      <th>acc</th>\n",
       "    </tr>\n",
       "  </thead>\n",
       "  <tbody>\n",
       "    <tr>\n",
       "      <th>0</th>\n",
       "      <td>KNN</td>\n",
       "      <td>0.775667</td>\n",
       "    </tr>\n",
       "    <tr>\n",
       "      <th>1</th>\n",
       "      <td>LR</td>\n",
       "      <td>0.683333</td>\n",
       "    </tr>\n",
       "    <tr>\n",
       "      <th>2</th>\n",
       "      <td>NB</td>\n",
       "      <td>0.327833</td>\n",
       "    </tr>\n",
       "    <tr>\n",
       "      <th>3</th>\n",
       "      <td>SVC</td>\n",
       "      <td>0.809667</td>\n",
       "    </tr>\n",
       "    <tr>\n",
       "      <th>4</th>\n",
       "      <td>DT</td>\n",
       "      <td>0.716500</td>\n",
       "    </tr>\n",
       "    <tr>\n",
       "      <th>5</th>\n",
       "      <td>RF</td>\n",
       "      <td>0.805333</td>\n",
       "    </tr>\n",
       "  </tbody>\n",
       "</table>\n",
       "</div>"
      ],
      "text/plain": [
       "  model       acc\n",
       "0   KNN  0.775667\n",
       "1    LR  0.683333\n",
       "2    NB  0.327833\n",
       "3   SVC  0.809667\n",
       "4    DT  0.716500\n",
       "5    RF  0.805333"
      ]
     },
     "execution_count": 3,
     "metadata": {},
     "output_type": "execute_result"
    }
   ],
   "source": [
    "six_basic_models_val"
   ]
  },
  {
   "cell_type": "code",
   "execution_count": 16,
   "metadata": {},
   "outputs": [],
   "source": [
    "knn = fit_models[0]\n",
    "lr = fit_models[1]\n",
    "nb = fit_models[2]\n",
    "svc = fit_models[3]\n",
    "dt = fit_models[4]\n",
    "rf = fit_models[5]\n"
   ]
  },
  {
   "cell_type": "code",
   "execution_count": 27,
   "metadata": {},
   "outputs": [],
   "source": [
    "from sklearn.datasets import make_classification\n",
    "from sklearn.metrics import plot_confusion_matrix, plot_roc_curve, classification_report"
   ]
  },
  {
   "cell_type": "code",
   "execution_count": 28,
   "metadata": {},
   "outputs": [
    {
     "name": "stdout",
     "output_type": "stream",
     "text": [
      "              precision    recall  f1-score   support\n",
      "\n",
      "           0       0.85      0.86      0.86      4639\n",
      "           1       0.51      0.50      0.50      1361\n",
      "\n",
      "    accuracy                           0.78      6000\n",
      "   macro avg       0.68      0.68      0.68      6000\n",
      "weighted avg       0.77      0.78      0.78      6000\n",
      "\n"
     ]
    },
    {
     "data": {
      "image/png": "[encoded data removed]",
      "text/plain": [
       "<Figure size 504x504 with 2 Axes>"
      ]
     },
     "metadata": {
      "needs_background": "light"
     },
     "output_type": "display_data"
    }
   ],
   "source": [
    "y_preds = knn.predict(x_val_preprocessed_scaled)\n",
    "print(classification_report(y_val, y_preds))\n",
    "fig, ax = plt.subplots(figsize=(7, 7))\n",
    "plot_confusion_matrix(knn, x_val_preprocessed_scaled, y_val, ax=ax)\n",
    "plt.title('KNN');"
   ]
  },
  {
   "cell_type": "code",
   "execution_count": 29,
   "metadata": {},
   "outputs": [
    {
     "name": "stdout",
     "output_type": "stream",
     "text": [
      "              precision    recall  f1-score   support\n",
      "\n",
      "           0       0.81      0.78      0.79      4639\n",
      "           1       0.32      0.36      0.34      1361\n",
      "\n",
      "    accuracy                           0.68      6000\n",
      "   macro avg       0.56      0.57      0.57      6000\n",
      "weighted avg       0.70      0.68      0.69      6000\n",
      "\n"
     ]
    },
    {
     "data": {
      "image/png": "[encoded data removed]",
      "text/plain": [
       "<Figure size 504x504 with 2 Axes>"
      ]
     },
     "metadata": {
      "needs_background": "light"
     },
     "output_type": "display_data"
    }
   ],
   "source": [
    "y_preds = lr.predict(x_val_preprocessed)\n",
    "print(classification_report(y_val, y_preds))\n",
    "fig, ax = plt.subplots(figsize=(7, 7))\n",
    "plot_confusion_matrix(lr, x_val_preprocessed, y_val, ax=ax)\n",
    "plt.title('LR');"
   ]
  },
  {
   "cell_type": "code",
   "execution_count": 30,
   "metadata": {},
   "outputs": [
    {
     "name": "stdout",
     "output_type": "stream",
     "text": [
      "              precision    recall  f1-score   support\n",
      "\n",
      "           0       0.88      0.15      0.26      4639\n",
      "           1       0.24      0.93      0.38      1361\n",
      "\n",
      "    accuracy                           0.33      6000\n",
      "   macro avg       0.56      0.54      0.32      6000\n",
      "weighted avg       0.73      0.33      0.29      6000\n",
      "\n"
     ]
    },
    {
     "data": {
      "image/png": "[encoded data removed]",
      "text/plain": [
       "<Figure size 504x504 with 2 Axes>"
      ]
     },
     "metadata": {
      "needs_background": "light"
     },
     "output_type": "display_data"
    }
   ],
   "source": [
    "y_preds = nb.predict(x_val_preprocessed)\n",
    "print(classification_report(y_val, y_preds))\n",
    "fig, ax = plt.subplots(figsize=(7, 7))\n",
    "plot_confusion_matrix(nb, x_val_preprocessed, y_val, ax=ax)\n",
    "plt.title('NB');"
   ]
  },
  {
   "cell_type": "code",
   "execution_count": 31,
   "metadata": {},
   "outputs": [
    {
     "name": "stdout",
     "output_type": "stream",
     "text": [
      "              precision    recall  f1-score   support\n",
      "\n",
      "           0       0.85      0.91      0.88      4639\n",
      "           1       0.61      0.45      0.52      1361\n",
      "\n",
      "    accuracy                           0.81      6000\n",
      "   macro avg       0.73      0.68      0.70      6000\n",
      "weighted avg       0.80      0.81      0.80      6000\n",
      "\n"
     ]
    },
    {
     "data": {
      "image/png": "[encoded data removed]",
      "text/plain": [
       "<Figure size 504x504 with 2 Axes>"
      ]
     },
     "metadata": {
      "needs_background": "light"
     },
     "output_type": "display_data"
    }
   ],
   "source": [
    "y_preds =svc.predict(x_val_preprocessed_scaled)\n",
    "print(classification_report(y_val, y_preds))\n",
    "fig, ax = plt.subplots(figsize=(7, 7))\n",
    "plot_confusion_matrix(svc, x_val_preprocessed_scaled, y_val, ax=ax)\n",
    "plt.title('SVC');"
   ]
  },
  {
   "cell_type": "code",
   "execution_count": 32,
   "metadata": {},
   "outputs": [
    {
     "name": "stdout",
     "output_type": "stream",
     "text": [
      "              precision    recall  f1-score   support\n",
      "\n",
      "           0       0.83      0.79      0.81      4639\n",
      "           1       0.39      0.46      0.42      1361\n",
      "\n",
      "    accuracy                           0.72      6000\n",
      "   macro avg       0.61      0.62      0.62      6000\n",
      "weighted avg       0.73      0.72      0.72      6000\n",
      "\n"
     ]
    },
    {
     "data": {
      "image/png": "[encoded data removed]",
      "text/plain": [
       "<Figure size 504x504 with 2 Axes>"
      ]
     },
     "metadata": {
      "needs_background": "light"
     },
     "output_type": "display_data"
    }
   ],
   "source": [
    "y_preds =dt.predict(x_val_preprocessed)\n",
    "print(classification_report(y_val, y_preds))\n",
    "fig, ax = plt.subplots(figsize=(7, 7))\n",
    "plot_confusion_matrix(dt, x_val_preprocessed, y_val, ax=ax)\n",
    "plt.title('DT');"
   ]
  },
  {
   "cell_type": "code",
   "execution_count": 33,
   "metadata": {},
   "outputs": [
    {
     "name": "stdout",
     "output_type": "stream",
     "text": [
      "              precision    recall  f1-score   support\n",
      "\n",
      "           0       0.85      0.91      0.88      4639\n",
      "           1       0.60      0.44      0.51      1361\n",
      "\n",
      "    accuracy                           0.81      6000\n",
      "   macro avg       0.72      0.68      0.69      6000\n",
      "weighted avg       0.79      0.81      0.79      6000\n",
      "\n"
     ]
    },
    {
     "data": {
      "image/png": "[encoded data removed]",
      "text/plain": [
       "<Figure size 504x504 with 2 Axes>"
      ]
     },
     "metadata": {
      "needs_background": "light"
     },
     "output_type": "display_data"
    }
   ],
   "source": [
    "y_preds =rf.predict(x_val_preprocessed)\n",
    "print(classification_report(y_val, y_preds))\n",
    "fig, ax = plt.subplots(figsize=(7, 7))\n",
    "plot_confusion_matrix(rf, x_val_preprocessed, y_val, ax=ax)\n",
    "plt.title('RF');"
   ]
  },
  {
   "cell_type": "code",
   "execution_count": null,
   "metadata": {},
   "outputs": [],
   "source": []
  },
  {
   "cell_type": "code",
   "execution_count": 34,
   "metadata": {},
   "outputs": [
    {
     "name": "stdout",
     "output_type": "stream",
     "text": [
      "ROC AUC score =  0.7329671020652142\n"
     ]
    },
    {
     "data": {
      "image/png": "[encoded data removed]",
      "text/plain": [
       "<Figure size 432x288 with 1 Axes>"
      ]
     },
     "metadata": {
      "needs_background": "light"
     },
     "output_type": "display_data"
    }
   ],
   "source": [
    "from sklearn.metrics import roc_auc_score, roc_curve\n",
    "\n",
    "knn_fpr, knn_tpr, knn_thresholds = roc_curve(y_val, knn.predict_proba(x_val_preprocessed_scaled)[:,1])\n",
    "lr_fpr, lr_tpr, lr_thresholds = roc_curve(y_val, lr.predict_proba(x_val_preprocessed)[:,1])\n",
    "nb_fpr, nb_tpr, nb_thresholds = roc_curve(y_val, nb.predict_proba(x_val_preprocessed)[:,1])\n",
    "svc_fpr, svc_tpr, svc_thresholds = roc_curve(y_val, svc.predict_proba(x_val_preprocessed_scaled)[:,1])\n",
    "dt_fpr, dt_tpr, dt_thresholds = roc_curve(y_val, dt.predict_proba(x_val_preprocessed)[:,1])\n",
    "rf_fpr, rf_tpr, rf_thresholds = roc_curve(y_val, rf.predict_proba(x_val_preprocessed)[:,1])\n",
    "\n",
    "plt.plot(knn_fpr, knn_tpr,lw=2, label='knn')\n",
    "plt.plot(lr_fpr, lr_tpr,lw=2, label='lr')\n",
    "plt.plot(nb_fpr, nb_tpr,lw=2, label='nb')\n",
    "plt.plot(svc_fpr, svc_tpr,lw=2, label='svc')\n",
    "plt.plot(dt_fpr, dt_tpr,lw=2, label='dt')\n",
    "plt.plot(rf_fpr, rf_tpr,lw=2, label='rf')\n",
    "\n",
    "plt.plot([0,1],[0,1],c='violet',ls='--')\n",
    "plt.xlim([-0.05,1.05])\n",
    "plt.ylim([-0.05,1.05])\n",
    "\n",
    "plt.legend(loc='lower right')\n",
    "plt.xlabel('False positive rate')\n",
    "plt.ylabel('True positive rate')\n",
    "plt.title('ROC curve for fraud problem');\n",
    "print(\"ROC AUC score = \", roc_auc_score(y_val, knn.predict_proba(x_val_preprocessed_scaled)[:,1]))"
   ]
  },
  {
   "cell_type": "code",
   "execution_count": 35,
   "metadata": {},
   "outputs": [
    {
     "name": "stdout",
     "output_type": "stream",
     "text": [
      "KNN ROC AUC score =  0.7329671020652142\n",
      "LR ROC AUC score =  0.6330168195120468\n",
      "NB ROC AUC score =  0.6563832275920267\n",
      "SVC ROC AUC score =  0.7396625644097523\n",
      "DT ROC AUC score =  0.625192696682869\n",
      "RF ROC AUC score =  0.7521554390079067\n"
     ]
    }
   ],
   "source": [
    "print(\"KNN ROC AUC score = \", roc_auc_score(y_val, knn.predict_proba(x_val_preprocessed_scaled)[:,1]))\n",
    "print(\"LR ROC AUC score = \", roc_auc_score(y_val, lr.predict_proba(x_val_preprocessed)[:,1]))\n",
    "print(\"NB ROC AUC score = \", roc_auc_score(y_val, nb.predict_proba(x_val_preprocessed)[:,1]))\n",
    "print(\"SVC ROC AUC score = \", roc_auc_score(y_val, svc.predict_proba(x_val_preprocessed_scaled)[:,1]))\n",
    "print(\"DT ROC AUC score = \", roc_auc_score(y_val, dt.predict_proba(x_val_preprocessed)[:,1]))\n",
    "print(\"RF ROC AUC score = \", roc_auc_score(y_val, rf.predict_proba(x_val_preprocessed)[:,1]))"
   ]
  },
  {
   "cell_type": "code",
   "execution_count": null,
   "metadata": {},
   "outputs": [],
   "source": []
  },
  {
   "cell_type": "code",
   "execution_count": null,
   "metadata": {},
   "outputs": [],
   "source": []
  },
  {
   "cell_type": "code",
   "execution_count": null,
   "metadata": {},
   "outputs": [],
   "source": []
  },
  {
   "cell_type": "code",
   "execution_count": null,
   "metadata": {},
   "outputs": [],
   "source": []
  },
  {
   "cell_type": "code",
   "execution_count": null,
   "metadata": {},
   "outputs": [],
   "source": []
  },
  {
   "cell_type": "code",
   "execution_count": null,
   "metadata": {},
   "outputs": [],
   "source": []
  },
  {
   "cell_type": "code",
   "execution_count": null,
   "metadata": {},
   "outputs": [],
   "source": []
  },
  {
   "cell_type": "code",
   "execution_count": null,
   "metadata": {},
   "outputs": [],
   "source": []
  }
 ],
 "metadata": {
  "kernelspec": {
   "display_name": "Python 3",
   "language": "python",
   "name": "python3"
  },
  "language_info": {
   "codemirror_mode": {
    "name": "ipython",
    "version": 3
   },
   "file_extension": ".py",
   "mimetype": "text/x-python",
   "name": "python",
   "nbconvert_exporter": "python",
   "pygments_lexer": "ipython3",
   "version": "3.8.3"
  }
 },
 "nbformat": 4,
 "nbformat_minor": 4
}
