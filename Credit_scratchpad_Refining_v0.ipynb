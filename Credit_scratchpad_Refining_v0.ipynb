{
 "cells": [
  {
   "cell_type": "markdown",
   "metadata": {},
   "source": [
    "#### Scratchpad updates:\n",
    "\n",
    "Data:  \n",
    " - raw data, unmodified\n",
    "\n",
    "Models:\n",
    " - 6 basic models, little tuning\n",
    " - exploring accuracy, precision, recall, f1\n"
   ]
  },
  {
   "cell_type": "code",
   "execution_count": 33,
   "metadata": {},
   "outputs": [],
   "source": [
    "import pandas as pd\n",
    "import numpy as np"
   ]
  },
  {
   "cell_type": "code",
   "execution_count": 34,
   "metadata": {},
   "outputs": [],
   "source": [
    "raw_df = pd.read_csv('credit_data.csv')"
   ]
  },
  {
   "cell_type": "code",
   "execution_count": 35,
   "metadata": {},
   "outputs": [],
   "source": [
    "# drop unneeded columns\n",
    "raw_df.drop(columns=['Unnamed: 0'], inplace=True)\n",
    "\n",
    "# current col names are X1, X2...add better col names\n",
    "columns = ['Limit','Sex','Education','Marriage','Age','Hist_6',\\\n",
    "           'Hist_5','Hist_4','Hist_3','Hist_2','Hist_1','Bill_6',\\\n",
    "           'Bill_5','Bill_4','Bill_3','Bill_2','Bill_1','Pay_6',\\\n",
    "           'Pay_5','Pay_4','Pay_3','Pay_2','Pay_1','Default']\n",
    "raw_df.columns = columns\n",
    "\n",
    "# drop header from first row\n",
    "raw_df = raw_df.drop([0]).reset_index()\n",
    "\n",
    "# re-order the columns\n",
    "columns=['Default','Limit','Sex','Education','Marriage','Age',\\\n",
    "         'Bill_1','Bill_2','Bill_3','Bill_4','Bill_5','Bill_6',\\\n",
    "         'Pay_1','Pay_2','Pay_3','Pay_4','Pay_5','Pay_6',\\\n",
    "         'Hist_1','Hist_2','Hist_3','Hist_4','Hist_5','Hist_6']\n",
    "raw_df = raw_df[columns]\n",
    "\n",
    "# replace encoded features with categorical values\n",
    "raw_df = raw_df.astype(int)\n",
    "raw_df['Sex'].replace([1,2],['Male','Female'], inplace=True)\n",
    "raw_df['Education'].replace([0,1,2,3,4,5,6],['Others','Graduate','University','High_School','Others','Others','Others'], inplace=True)\n",
    "raw_df['Marriage'].replace([0,1,2,3],['Others','Married','Single','Others'], inplace=True)"
   ]
  },
  {
   "cell_type": "code",
   "execution_count": 36,
   "metadata": {},
   "outputs": [
    {
     "data": {
      "text/html": [
       "<div>\n",
       "<style scoped>\n",
       "    .dataframe tbody tr th:only-of-type {\n",
       "        vertical-align: middle;\n",
       "    }\n",
       "\n",
       "    .dataframe tbody tr th {\n",
       "        vertical-align: top;\n",
       "    }\n",
       "\n",
       "    .dataframe thead th {\n",
       "        text-align: right;\n",
       "    }\n",
       "</style>\n",
       "<table border=\"1\" class=\"dataframe\">\n",
       "  <thead>\n",
       "    <tr style=\"text-align: right;\">\n",
       "      <th></th>\n",
       "      <th>Default</th>\n",
       "      <th>Limit</th>\n",
       "      <th>Sex</th>\n",
       "      <th>Education</th>\n",
       "      <th>Marriage</th>\n",
       "      <th>Age</th>\n",
       "      <th>Bill_1</th>\n",
       "      <th>Bill_2</th>\n",
       "      <th>Bill_3</th>\n",
       "      <th>Bill_4</th>\n",
       "      <th>...</th>\n",
       "      <th>Pay_3</th>\n",
       "      <th>Pay_4</th>\n",
       "      <th>Pay_5</th>\n",
       "      <th>Pay_6</th>\n",
       "      <th>Hist_1</th>\n",
       "      <th>Hist_2</th>\n",
       "      <th>Hist_3</th>\n",
       "      <th>Hist_4</th>\n",
       "      <th>Hist_5</th>\n",
       "      <th>Hist_6</th>\n",
       "    </tr>\n",
       "  </thead>\n",
       "  <tbody>\n",
       "    <tr>\n",
       "      <th>0</th>\n",
       "      <td>1</td>\n",
       "      <td>20000</td>\n",
       "      <td>Female</td>\n",
       "      <td>University</td>\n",
       "      <td>Married</td>\n",
       "      <td>24</td>\n",
       "      <td>0</td>\n",
       "      <td>0</td>\n",
       "      <td>0</td>\n",
       "      <td>689</td>\n",
       "      <td>...</td>\n",
       "      <td>0</td>\n",
       "      <td>0</td>\n",
       "      <td>689</td>\n",
       "      <td>0</td>\n",
       "      <td>-2</td>\n",
       "      <td>-2</td>\n",
       "      <td>-1</td>\n",
       "      <td>-1</td>\n",
       "      <td>2</td>\n",
       "      <td>2</td>\n",
       "    </tr>\n",
       "    <tr>\n",
       "      <th>1</th>\n",
       "      <td>1</td>\n",
       "      <td>120000</td>\n",
       "      <td>Female</td>\n",
       "      <td>University</td>\n",
       "      <td>Single</td>\n",
       "      <td>26</td>\n",
       "      <td>3261</td>\n",
       "      <td>3455</td>\n",
       "      <td>3272</td>\n",
       "      <td>2682</td>\n",
       "      <td>...</td>\n",
       "      <td>1000</td>\n",
       "      <td>1000</td>\n",
       "      <td>1000</td>\n",
       "      <td>0</td>\n",
       "      <td>2</td>\n",
       "      <td>0</td>\n",
       "      <td>0</td>\n",
       "      <td>0</td>\n",
       "      <td>2</td>\n",
       "      <td>-1</td>\n",
       "    </tr>\n",
       "    <tr>\n",
       "      <th>2</th>\n",
       "      <td>0</td>\n",
       "      <td>90000</td>\n",
       "      <td>Female</td>\n",
       "      <td>University</td>\n",
       "      <td>Single</td>\n",
       "      <td>34</td>\n",
       "      <td>15549</td>\n",
       "      <td>14948</td>\n",
       "      <td>14331</td>\n",
       "      <td>13559</td>\n",
       "      <td>...</td>\n",
       "      <td>1000</td>\n",
       "      <td>1000</td>\n",
       "      <td>1500</td>\n",
       "      <td>1518</td>\n",
       "      <td>0</td>\n",
       "      <td>0</td>\n",
       "      <td>0</td>\n",
       "      <td>0</td>\n",
       "      <td>0</td>\n",
       "      <td>0</td>\n",
       "    </tr>\n",
       "    <tr>\n",
       "      <th>3</th>\n",
       "      <td>0</td>\n",
       "      <td>50000</td>\n",
       "      <td>Female</td>\n",
       "      <td>University</td>\n",
       "      <td>Married</td>\n",
       "      <td>37</td>\n",
       "      <td>29547</td>\n",
       "      <td>28959</td>\n",
       "      <td>28314</td>\n",
       "      <td>49291</td>\n",
       "      <td>...</td>\n",
       "      <td>1100</td>\n",
       "      <td>1200</td>\n",
       "      <td>2019</td>\n",
       "      <td>2000</td>\n",
       "      <td>0</td>\n",
       "      <td>0</td>\n",
       "      <td>0</td>\n",
       "      <td>0</td>\n",
       "      <td>0</td>\n",
       "      <td>0</td>\n",
       "    </tr>\n",
       "    <tr>\n",
       "      <th>4</th>\n",
       "      <td>0</td>\n",
       "      <td>50000</td>\n",
       "      <td>Male</td>\n",
       "      <td>University</td>\n",
       "      <td>Married</td>\n",
       "      <td>57</td>\n",
       "      <td>19131</td>\n",
       "      <td>19146</td>\n",
       "      <td>20940</td>\n",
       "      <td>35835</td>\n",
       "      <td>...</td>\n",
       "      <td>9000</td>\n",
       "      <td>10000</td>\n",
       "      <td>36681</td>\n",
       "      <td>2000</td>\n",
       "      <td>0</td>\n",
       "      <td>0</td>\n",
       "      <td>0</td>\n",
       "      <td>-1</td>\n",
       "      <td>0</td>\n",
       "      <td>-1</td>\n",
       "    </tr>\n",
       "    <tr>\n",
       "      <th>...</th>\n",
       "      <td>...</td>\n",
       "      <td>...</td>\n",
       "      <td>...</td>\n",
       "      <td>...</td>\n",
       "      <td>...</td>\n",
       "      <td>...</td>\n",
       "      <td>...</td>\n",
       "      <td>...</td>\n",
       "      <td>...</td>\n",
       "      <td>...</td>\n",
       "      <td>...</td>\n",
       "      <td>...</td>\n",
       "      <td>...</td>\n",
       "      <td>...</td>\n",
       "      <td>...</td>\n",
       "      <td>...</td>\n",
       "      <td>...</td>\n",
       "      <td>...</td>\n",
       "      <td>...</td>\n",
       "      <td>...</td>\n",
       "      <td>...</td>\n",
       "    </tr>\n",
       "    <tr>\n",
       "      <th>29995</th>\n",
       "      <td>0</td>\n",
       "      <td>220000</td>\n",
       "      <td>Male</td>\n",
       "      <td>High_School</td>\n",
       "      <td>Married</td>\n",
       "      <td>39</td>\n",
       "      <td>15980</td>\n",
       "      <td>31237</td>\n",
       "      <td>88004</td>\n",
       "      <td>208365</td>\n",
       "      <td>...</td>\n",
       "      <td>3047</td>\n",
       "      <td>5003</td>\n",
       "      <td>20000</td>\n",
       "      <td>8500</td>\n",
       "      <td>0</td>\n",
       "      <td>0</td>\n",
       "      <td>0</td>\n",
       "      <td>0</td>\n",
       "      <td>0</td>\n",
       "      <td>0</td>\n",
       "    </tr>\n",
       "    <tr>\n",
       "      <th>29996</th>\n",
       "      <td>0</td>\n",
       "      <td>150000</td>\n",
       "      <td>Male</td>\n",
       "      <td>High_School</td>\n",
       "      <td>Single</td>\n",
       "      <td>43</td>\n",
       "      <td>0</td>\n",
       "      <td>5190</td>\n",
       "      <td>8979</td>\n",
       "      <td>3502</td>\n",
       "      <td>...</td>\n",
       "      <td>129</td>\n",
       "      <td>8998</td>\n",
       "      <td>3526</td>\n",
       "      <td>1837</td>\n",
       "      <td>0</td>\n",
       "      <td>0</td>\n",
       "      <td>-1</td>\n",
       "      <td>-1</td>\n",
       "      <td>-1</td>\n",
       "      <td>-1</td>\n",
       "    </tr>\n",
       "    <tr>\n",
       "      <th>29997</th>\n",
       "      <td>1</td>\n",
       "      <td>30000</td>\n",
       "      <td>Male</td>\n",
       "      <td>University</td>\n",
       "      <td>Single</td>\n",
       "      <td>37</td>\n",
       "      <td>19357</td>\n",
       "      <td>20582</td>\n",
       "      <td>20878</td>\n",
       "      <td>2758</td>\n",
       "      <td>...</td>\n",
       "      <td>4200</td>\n",
       "      <td>22000</td>\n",
       "      <td>0</td>\n",
       "      <td>0</td>\n",
       "      <td>0</td>\n",
       "      <td>0</td>\n",
       "      <td>-1</td>\n",
       "      <td>2</td>\n",
       "      <td>3</td>\n",
       "      <td>4</td>\n",
       "    </tr>\n",
       "    <tr>\n",
       "      <th>29998</th>\n",
       "      <td>1</td>\n",
       "      <td>80000</td>\n",
       "      <td>Male</td>\n",
       "      <td>High_School</td>\n",
       "      <td>Married</td>\n",
       "      <td>41</td>\n",
       "      <td>48944</td>\n",
       "      <td>11855</td>\n",
       "      <td>52774</td>\n",
       "      <td>76304</td>\n",
       "      <td>...</td>\n",
       "      <td>1926</td>\n",
       "      <td>1178</td>\n",
       "      <td>3409</td>\n",
       "      <td>85900</td>\n",
       "      <td>-1</td>\n",
       "      <td>0</td>\n",
       "      <td>0</td>\n",
       "      <td>0</td>\n",
       "      <td>-1</td>\n",
       "      <td>1</td>\n",
       "    </tr>\n",
       "    <tr>\n",
       "      <th>29999</th>\n",
       "      <td>1</td>\n",
       "      <td>50000</td>\n",
       "      <td>Male</td>\n",
       "      <td>University</td>\n",
       "      <td>Married</td>\n",
       "      <td>46</td>\n",
       "      <td>15313</td>\n",
       "      <td>32428</td>\n",
       "      <td>36535</td>\n",
       "      <td>49764</td>\n",
       "      <td>...</td>\n",
       "      <td>1000</td>\n",
       "      <td>1430</td>\n",
       "      <td>1800</td>\n",
       "      <td>2078</td>\n",
       "      <td>0</td>\n",
       "      <td>0</td>\n",
       "      <td>0</td>\n",
       "      <td>0</td>\n",
       "      <td>0</td>\n",
       "      <td>0</td>\n",
       "    </tr>\n",
       "  </tbody>\n",
       "</table>\n",
       "<p>30000 rows × 24 columns</p>\n",
       "</div>"
      ],
      "text/plain": [
       "       Default   Limit     Sex    Education Marriage  Age  Bill_1  Bill_2  \\\n",
       "0            1   20000  Female   University  Married   24       0       0   \n",
       "1            1  120000  Female   University   Single   26    3261    3455   \n",
       "2            0   90000  Female   University   Single   34   15549   14948   \n",
       "3            0   50000  Female   University  Married   37   29547   28959   \n",
       "4            0   50000    Male   University  Married   57   19131   19146   \n",
       "...        ...     ...     ...          ...      ...  ...     ...     ...   \n",
       "29995        0  220000    Male  High_School  Married   39   15980   31237   \n",
       "29996        0  150000    Male  High_School   Single   43       0    5190   \n",
       "29997        1   30000    Male   University   Single   37   19357   20582   \n",
       "29998        1   80000    Male  High_School  Married   41   48944   11855   \n",
       "29999        1   50000    Male   University  Married   46   15313   32428   \n",
       "\n",
       "       Bill_3  Bill_4  ...  Pay_3  Pay_4  Pay_5  Pay_6  Hist_1  Hist_2  \\\n",
       "0           0     689  ...      0      0    689      0      -2      -2   \n",
       "1        3272    2682  ...   1000   1000   1000      0       2       0   \n",
       "2       14331   13559  ...   1000   1000   1500   1518       0       0   \n",
       "3       28314   49291  ...   1100   1200   2019   2000       0       0   \n",
       "4       20940   35835  ...   9000  10000  36681   2000       0       0   \n",
       "...       ...     ...  ...    ...    ...    ...    ...     ...     ...   \n",
       "29995   88004  208365  ...   3047   5003  20000   8500       0       0   \n",
       "29996    8979    3502  ...    129   8998   3526   1837       0       0   \n",
       "29997   20878    2758  ...   4200  22000      0      0       0       0   \n",
       "29998   52774   76304  ...   1926   1178   3409  85900      -1       0   \n",
       "29999   36535   49764  ...   1000   1430   1800   2078       0       0   \n",
       "\n",
       "       Hist_3  Hist_4  Hist_5  Hist_6  \n",
       "0          -1      -1       2       2  \n",
       "1           0       0       2      -1  \n",
       "2           0       0       0       0  \n",
       "3           0       0       0       0  \n",
       "4           0      -1       0      -1  \n",
       "...       ...     ...     ...     ...  \n",
       "29995       0       0       0       0  \n",
       "29996      -1      -1      -1      -1  \n",
       "29997      -1       2       3       4  \n",
       "29998       0       0      -1       1  \n",
       "29999       0       0       0       0  \n",
       "\n",
       "[30000 rows x 24 columns]"
      ]
     },
     "execution_count": 36,
     "metadata": {},
     "output_type": "execute_result"
    }
   ],
   "source": [
    "raw_df"
   ]
  },
  {
   "cell_type": "markdown",
   "metadata": {},
   "source": [
    "## Look at class balance"
   ]
  },
  {
   "cell_type": "code",
   "execution_count": 37,
   "metadata": {},
   "outputs": [
    {
     "name": "stdout",
     "output_type": "stream",
     "text": [
      "percent default cases = \t22.12%\n",
      "number non-default cases = \t23364\n",
      "number default cases = \t\t6636\n"
     ]
    },
    {
     "data": {
      "image/png": "[encoded data removed]",
      "text/plain": [
       "<Figure size 432x288 with 1 Axes>"
      ]
     },
     "metadata": {
      "needs_background": "light"
     },
     "output_type": "display_data"
    }
   ],
   "source": [
    "import matplotlib.pyplot as plt\n",
    "plt.hist(raw_df['Default']);\n",
    "print('percent default cases = \\t{}%'.format(100*(raw_df['Default'] == 1).sum() / len(raw_df)))\n",
    "print('number non-default cases = \\t{}'.format((raw_df['Default'] == 0).sum()))\n",
    "print('number default cases = \\t\\t{}'.format((raw_df['Default'] == 1).sum()))"
   ]
  },
  {
   "cell_type": "markdown",
   "metadata": {},
   "source": [
    "## Split Train, test, val"
   ]
  },
  {
   "cell_type": "code",
   "execution_count": 38,
   "metadata": {},
   "outputs": [],
   "source": [
    "# Separate train, val, and test data\n",
    "\n",
    "from sklearn.model_selection import train_test_split\n",
    "\n",
    "# Separate features from label\n",
    "X = raw_df.drop(columns='Default')\n",
    "y = raw_df['Default']\n",
    "\n",
    "# Hold out 20% test data\n",
    "X_train, x_test, y_train, y_test = train_test_split(X, y, test_size=0.2, random_state=4444)\n",
    "\n",
    "# Hold out 25% of remainder for validation\n",
    "X_train, x_val, y_train, y_val = train_test_split(X_train, y_train, test_size=0.25, random_state=4444)"
   ]
  },
  {
   "cell_type": "markdown",
   "metadata": {},
   "source": [
    "## Create dummies"
   ]
  },
  {
   "cell_type": "code",
   "execution_count": 39,
   "metadata": {},
   "outputs": [],
   "source": [
    "# One hot encode categoricals for Train, (Val- skip), and Test sets\n",
    "\n",
    "from sklearn.preprocessing import OneHotEncoder\n",
    "\n",
    "# Define the categoricals\n",
    "categoricals = ['Sex','Education','Marriage']\n",
    "\n",
    "#\n",
    "# Train data\n",
    "#\n",
    "# Initialize\n",
    "ohe = OneHotEncoder(sparse=False)\n",
    "# Create a matrix of encoded variables\n",
    "cat_matrix_train = ohe.fit_transform(X_train.loc[:, categoricals])\n",
    "# Turn the matrix into a dataframe\n",
    "X_train_ohe = pd.DataFrame(cat_matrix_train,\n",
    "                           columns=ohe.get_feature_names(categoricals), # use real column names\n",
    "                           index=X_train.index) # get index position form training data\n",
    "# Combine encoded categoricals with the numeric training data\n",
    "X_train_preprocessed = pd.concat([X_train.drop(columns=categoricals), X_train_ohe], axis=1)\n",
    "\n",
    "#\n",
    "# Val data - don't need when doing kfold cross val\n",
    "#\n",
    "ohe = OneHotEncoder(sparse=False)\n",
    "cat_matrix_val = ohe.fit_transform(x_val.loc[:, categoricals])\n",
    "x_val_ohe = pd.DataFrame(cat_matrix_val,\n",
    "                           columns=ohe.get_feature_names(categoricals),\n",
    "                           index=x_val.index)\n",
    "x_val_preprocessed = pd.concat([x_val.drop(columns=categoricals), x_val_ohe], axis=1)\n",
    "\n",
    "#\n",
    "# Test data\n",
    "#\n",
    "ohe = OneHotEncoder(sparse=False)\n",
    "cat_matrix_test = ohe.fit_transform(x_test.loc[:, categoricals])\n",
    "x_test_ohe = pd.DataFrame(cat_matrix_test,\n",
    "                           columns=ohe.get_feature_names(categoricals),\n",
    "                           index=x_test.index)\n",
    "x_test_preprocessed = pd.concat([x_test.drop(columns=categoricals), x_test_ohe], axis=1)"
   ]
  },
  {
   "cell_type": "markdown",
   "metadata": {},
   "source": [
    "## Scale"
   ]
  },
  {
   "cell_type": "code",
   "execution_count": 40,
   "metadata": {},
   "outputs": [],
   "source": [
    "# Scale data\n",
    "from sklearn.preprocessing import StandardScaler\n",
    "\n",
    "scaler = StandardScaler()\n",
    "scaler.fit(X_train_preprocessed)\n",
    "X_train_preprocessed_scaled = scaler.transform(X_train_preprocessed)\n",
    "x_val_preprocessed_scaled = scaler.transform(x_val_preprocessed)\n",
    "x_test_preprocessed_scaled = scaler.transform(x_test_preprocessed)"
   ]
  },
  {
   "cell_type": "markdown",
   "metadata": {},
   "source": [
    "## KNN (k: 1-20)"
   ]
  },
  {
   "cell_type": "code",
   "execution_count": 9,
   "metadata": {},
   "outputs": [],
   "source": [
    "# KNN\n",
    "from sklearn.neighbors import KNeighborsClassifier\n",
    "from sklearn import metrics\n",
    "\n",
    "k_val=[]\n",
    "acc_val=[]\n",
    "prec_val=[]\n",
    "rec_val=[]\n",
    "\n",
    "for k in range(1,21):\n",
    "    knn = KNeighborsClassifier(n_neighbors=k)\n",
    "    knn.fit(X_train_preprocessed_scaled, y_train)\n",
    "    pred = knn.predict(x_val_preprocessed_scaled)\n",
    "    k_val.append(k)\n",
    "    acc_val.append(metrics.accuracy_score(y_val, pred))\n",
    "    prec_val.append(metrics.precision_score(y_val, pred))\n",
    "    rec_val.append(metrics.recall_score(y_val, pred))\n",
    "\n",
    "knn_val_scores = pd.DataFrame(list(zip(k_val, acc_val, prec_val, rec_val)),\\\n",
    "                              columns=['k','acc', 'prec', 'rec'])"
   ]
  },
  {
   "cell_type": "code",
   "execution_count": 10,
   "metadata": {},
   "outputs": [],
   "source": [
    "import pickle\n",
    "\n",
    "# Pickle the knn scores\n",
    "with open('knn_val_v0.pickle', 'wb') as to_write:\n",
    "    pickle.dump(knn_val_scores, to_write)"
   ]
  },
  {
   "cell_type": "code",
   "execution_count": 11,
   "metadata": {},
   "outputs": [],
   "source": [
    "# Read\n",
    "import pickle\n",
    "with open('knn_val_v0.pickle','rb') as read_file:\n",
    "    knn_val_scores = pickle.load(read_file)"
   ]
  },
  {
   "cell_type": "code",
   "execution_count": 12,
   "metadata": {},
   "outputs": [
    {
     "data": {
      "text/html": [
       "<div>\n",
       "<style scoped>\n",
       "    .dataframe tbody tr th:only-of-type {\n",
       "        vertical-align: middle;\n",
       "    }\n",
       "\n",
       "    .dataframe tbody tr th {\n",
       "        vertical-align: top;\n",
       "    }\n",
       "\n",
       "    .dataframe thead th {\n",
       "        text-align: right;\n",
       "    }\n",
       "</style>\n",
       "<table border=\"1\" class=\"dataframe\">\n",
       "  <thead>\n",
       "    <tr style=\"text-align: right;\">\n",
       "      <th></th>\n",
       "      <th>k</th>\n",
       "      <th>acc</th>\n",
       "      <th>prec</th>\n",
       "      <th>rec</th>\n",
       "    </tr>\n",
       "  </thead>\n",
       "  <tbody>\n",
       "    <tr>\n",
       "      <th>0</th>\n",
       "      <td>1</td>\n",
       "      <td>0.722667</td>\n",
       "      <td>0.387025</td>\n",
       "      <td>0.381337</td>\n",
       "    </tr>\n",
       "    <tr>\n",
       "      <th>1</th>\n",
       "      <td>2</td>\n",
       "      <td>0.783167</td>\n",
       "      <td>0.561475</td>\n",
       "      <td>0.201323</td>\n",
       "    </tr>\n",
       "    <tr>\n",
       "      <th>2</th>\n",
       "      <td>3</td>\n",
       "      <td>0.775000</td>\n",
       "      <td>0.505550</td>\n",
       "      <td>0.368112</td>\n",
       "    </tr>\n",
       "    <tr>\n",
       "      <th>3</th>\n",
       "      <td>4</td>\n",
       "      <td>0.794333</td>\n",
       "      <td>0.610820</td>\n",
       "      <td>0.257164</td>\n",
       "    </tr>\n",
       "    <tr>\n",
       "      <th>4</th>\n",
       "      <td>5</td>\n",
       "      <td>0.792500</td>\n",
       "      <td>0.567285</td>\n",
       "      <td>0.359295</td>\n",
       "    </tr>\n",
       "    <tr>\n",
       "      <th>5</th>\n",
       "      <td>6</td>\n",
       "      <td>0.799000</td>\n",
       "      <td>0.628099</td>\n",
       "      <td>0.279206</td>\n",
       "    </tr>\n",
       "    <tr>\n",
       "      <th>6</th>\n",
       "      <td>7</td>\n",
       "      <td>0.799500</td>\n",
       "      <td>0.603403</td>\n",
       "      <td>0.338722</td>\n",
       "    </tr>\n",
       "    <tr>\n",
       "      <th>7</th>\n",
       "      <td>8</td>\n",
       "      <td>0.800333</td>\n",
       "      <td>0.633826</td>\n",
       "      <td>0.283615</td>\n",
       "    </tr>\n",
       "    <tr>\n",
       "      <th>8</th>\n",
       "      <td>9</td>\n",
       "      <td>0.801833</td>\n",
       "      <td>0.616848</td>\n",
       "      <td>0.333578</td>\n",
       "    </tr>\n",
       "    <tr>\n",
       "      <th>9</th>\n",
       "      <td>10</td>\n",
       "      <td>0.801333</td>\n",
       "      <td>0.641068</td>\n",
       "      <td>0.282145</td>\n",
       "    </tr>\n",
       "    <tr>\n",
       "      <th>10</th>\n",
       "      <td>11</td>\n",
       "      <td>0.800167</td>\n",
       "      <td>0.615057</td>\n",
       "      <td>0.318148</td>\n",
       "    </tr>\n",
       "    <tr>\n",
       "      <th>11</th>\n",
       "      <td>12</td>\n",
       "      <td>0.801833</td>\n",
       "      <td>0.642384</td>\n",
       "      <td>0.285084</td>\n",
       "    </tr>\n",
       "    <tr>\n",
       "      <th>12</th>\n",
       "      <td>13</td>\n",
       "      <td>0.804667</td>\n",
       "      <td>0.637956</td>\n",
       "      <td>0.321087</td>\n",
       "    </tr>\n",
       "    <tr>\n",
       "      <th>13</th>\n",
       "      <td>14</td>\n",
       "      <td>0.803500</td>\n",
       "      <td>0.653199</td>\n",
       "      <td>0.285084</td>\n",
       "    </tr>\n",
       "    <tr>\n",
       "      <th>14</th>\n",
       "      <td>15</td>\n",
       "      <td>0.804833</td>\n",
       "      <td>0.644377</td>\n",
       "      <td>0.311536</td>\n",
       "    </tr>\n",
       "    <tr>\n",
       "      <th>15</th>\n",
       "      <td>16</td>\n",
       "      <td>0.805333</td>\n",
       "      <td>0.665523</td>\n",
       "      <td>0.285084</td>\n",
       "    </tr>\n",
       "    <tr>\n",
       "      <th>16</th>\n",
       "      <td>17</td>\n",
       "      <td>0.806333</td>\n",
       "      <td>0.657686</td>\n",
       "      <td>0.304923</td>\n",
       "    </tr>\n",
       "    <tr>\n",
       "      <th>17</th>\n",
       "      <td>18</td>\n",
       "      <td>0.804667</td>\n",
       "      <td>0.667851</td>\n",
       "      <td>0.276267</td>\n",
       "    </tr>\n",
       "    <tr>\n",
       "      <th>18</th>\n",
       "      <td>19</td>\n",
       "      <td>0.806500</td>\n",
       "      <td>0.662338</td>\n",
       "      <td>0.299780</td>\n",
       "    </tr>\n",
       "    <tr>\n",
       "      <th>19</th>\n",
       "      <td>20</td>\n",
       "      <td>0.804000</td>\n",
       "      <td>0.666068</td>\n",
       "      <td>0.272594</td>\n",
       "    </tr>\n",
       "  </tbody>\n",
       "</table>\n",
       "</div>"
      ],
      "text/plain": [
       "     k       acc      prec       rec\n",
       "0    1  0.722667  0.387025  0.381337\n",
       "1    2  0.783167  0.561475  0.201323\n",
       "2    3  0.775000  0.505550  0.368112\n",
       "3    4  0.794333  0.610820  0.257164\n",
       "4    5  0.792500  0.567285  0.359295\n",
       "5    6  0.799000  0.628099  0.279206\n",
       "6    7  0.799500  0.603403  0.338722\n",
       "7    8  0.800333  0.633826  0.283615\n",
       "8    9  0.801833  0.616848  0.333578\n",
       "9   10  0.801333  0.641068  0.282145\n",
       "10  11  0.800167  0.615057  0.318148\n",
       "11  12  0.801833  0.642384  0.285084\n",
       "12  13  0.804667  0.637956  0.321087\n",
       "13  14  0.803500  0.653199  0.285084\n",
       "14  15  0.804833  0.644377  0.311536\n",
       "15  16  0.805333  0.665523  0.285084\n",
       "16  17  0.806333  0.657686  0.304923\n",
       "17  18  0.804667  0.667851  0.276267\n",
       "18  19  0.806500  0.662338  0.299780\n",
       "19  20  0.804000  0.666068  0.272594"
      ]
     },
     "execution_count": 12,
     "metadata": {},
     "output_type": "execute_result"
    }
   ],
   "source": [
    "knn_val_scores"
   ]
  },
  {
   "cell_type": "code",
   "execution_count": 32,
   "metadata": {},
   "outputs": [
    {
     "data": {
      "image/png": "[encoded data removed]",
      "text/plain": [
       "<Figure size 432x288 with 1 Axes>"
      ]
     },
     "metadata": {
      "needs_background": "light"
     },
     "output_type": "display_data"
    }
   ],
   "source": [
    "plt.plot(knn_val_scores['k'],\\\n",
    "             knn_val_scores['acc'])\n",
    "plt.title('accuracy of knn, varying k')\n",
    "plt.ylabel('accuracy')\n",
    "plt.xlabel('k');"
   ]
  },
  {
   "cell_type": "markdown",
   "metadata": {},
   "source": [
    "## Assess performance of different models"
   ]
  },
  {
   "cell_type": "code",
   "execution_count": 41,
   "metadata": {},
   "outputs": [
    {
     "name": "stderr",
     "output_type": "stream",
     "text": [
      "/Users/Jay/opt/anaconda3/lib/python3.8/site-packages/sklearn/linear_model/_logistic.py:762: ConvergenceWarning: lbfgs failed to converge (status=1):\n",
      "STOP: TOTAL NO. of ITERATIONS REACHED LIMIT.\n",
      "\n",
      "Increase the number of iterations (max_iter) or scale the data as shown in:\n",
      "    https://scikit-learn.org/stable/modules/preprocessing.html\n",
      "Please also refer to the documentation for alternative solver options:\n",
      "    https://scikit-learn.org/stable/modules/linear_model.html#logistic-regression\n",
      "  n_iter_i = _check_optimize_result(\n"
     ]
    }
   ],
   "source": [
    "\n",
    "model_list = []\n",
    "scores_list = []\n",
    "fit_models = []\n",
    "\n",
    "from sklearn.neighbors import KNeighborsClassifier\n",
    "knn = KNeighborsClassifier(n_neighbors=19)\n",
    "knn.fit(X_train_preprocessed_scaled, y_train)\n",
    "knn_score = knn.score(x_val_preprocessed_scaled,y_val)\n",
    "model_list.append('KNN')\n",
    "scores_list.append(knn_score)\n",
    "fit_models.append(knn)\n",
    "\n",
    "from sklearn.linear_model import LogisticRegression\n",
    "lr = LogisticRegression()\n",
    "lr.fit(X_train_preprocessed, y_train)\n",
    "lr_score = lr.score(x_val_preprocessed,y_val)\n",
    "model_list.append('LR')\n",
    "scores_list.append(lr_score)\n",
    "fit_models.append(lr)\n",
    "\n",
    "from sklearn.naive_bayes import GaussianNB\n",
    "nb = GaussianNB()\n",
    "nb.fit(X_train_preprocessed, y_train)\n",
    "nb_score = nb.score(x_val_preprocessed,y_val)\n",
    "model_list.append('NB')\n",
    "scores_list.append(nb_score)\n",
    "fit_models.append(nb)\n",
    "\n",
    "from sklearn.svm import SVC\n",
    "svc = SVC(probability=True)\n",
    "svc.fit(X_train_preprocessed_scaled, y_train)\n",
    "svc_score = svc.score(x_val_preprocessed_scaled,y_val)\n",
    "model_list.append('SVC')\n",
    "scores_list.append(svc_score)\n",
    "fit_models.append(svc)\n",
    "                           \n",
    "from sklearn.tree import DecisionTreeClassifier\n",
    "dt = DecisionTreeClassifier()\n",
    "dt.fit(X_train_preprocessed, y_train)\n",
    "dt_score = dt.score(x_val_preprocessed,y_val)\n",
    "model_list.append('DT')\n",
    "scores_list.append(dt_score)\n",
    "fit_models.append(dt)\n",
    "                           \n",
    "from sklearn.ensemble import RandomForestClassifier\n",
    "rf = RandomForestClassifier()\n",
    "rf.fit(X_train_preprocessed, y_train)\n",
    "rf_score = rf.score(x_val_preprocessed,y_val)\n",
    "model_list.append('RF')\n",
    "scores_list.append(rf_score)\n",
    "fit_models.append(rf)\n",
    "                           \n",
    "six_basic_models_val = pd.DataFrame(list(zip(model_list, scores_list)),\\\n",
    "                              columns=['model','acc'])\n",
    "\n",
    "\n",
    "\n"
   ]
  },
  {
   "cell_type": "code",
   "execution_count": null,
   "metadata": {},
   "outputs": [],
   "source": [
    "import pickle\n",
    "#pickle the scores\n",
    "with open('six_models_v0.pickle', 'wb') as to_write:\n",
    "    pickle.dump(six_basic_models_val, to_write)"
   ]
  },
  {
   "cell_type": "code",
   "execution_count": 42,
   "metadata": {},
   "outputs": [],
   "source": [
    "# pickle the models\n",
    "with open('six_fit_models_v0.pickle', 'wb') as to_write:\n",
    "    pickle.dump(fit_models, to_write)"
   ]
  },
  {
   "cell_type": "code",
   "execution_count": 16,
   "metadata": {},
   "outputs": [],
   "source": [
    "# Read\n",
    "import pickle\n",
    "with open('six_models_v0.pickle','rb') as read_file:\n",
    "    six_basic_models_val = pickle.load(read_file)"
   ]
  },
  {
   "cell_type": "code",
   "execution_count": 17,
   "metadata": {},
   "outputs": [
    {
     "data": {
      "text/html": [
       "<div>\n",
       "<style scoped>\n",
       "    .dataframe tbody tr th:only-of-type {\n",
       "        vertical-align: middle;\n",
       "    }\n",
       "\n",
       "    .dataframe tbody tr th {\n",
       "        vertical-align: top;\n",
       "    }\n",
       "\n",
       "    .dataframe thead th {\n",
       "        text-align: right;\n",
       "    }\n",
       "</style>\n",
       "<table border=\"1\" class=\"dataframe\">\n",
       "  <thead>\n",
       "    <tr style=\"text-align: right;\">\n",
       "      <th></th>\n",
       "      <th>model</th>\n",
       "      <th>acc</th>\n",
       "    </tr>\n",
       "  </thead>\n",
       "  <tbody>\n",
       "    <tr>\n",
       "      <th>0</th>\n",
       "      <td>KNN</td>\n",
       "      <td>0.806500</td>\n",
       "    </tr>\n",
       "    <tr>\n",
       "      <th>1</th>\n",
       "      <td>LR</td>\n",
       "      <td>0.773167</td>\n",
       "    </tr>\n",
       "    <tr>\n",
       "      <th>2</th>\n",
       "      <td>NB</td>\n",
       "      <td>0.371833</td>\n",
       "    </tr>\n",
       "    <tr>\n",
       "      <th>3</th>\n",
       "      <td>SVC</td>\n",
       "      <td>0.816833</td>\n",
       "    </tr>\n",
       "    <tr>\n",
       "      <th>4</th>\n",
       "      <td>DT</td>\n",
       "      <td>0.726500</td>\n",
       "    </tr>\n",
       "    <tr>\n",
       "      <th>5</th>\n",
       "      <td>RF</td>\n",
       "      <td>0.815333</td>\n",
       "    </tr>\n",
       "  </tbody>\n",
       "</table>\n",
       "</div>"
      ],
      "text/plain": [
       "  model       acc\n",
       "0   KNN  0.806500\n",
       "1    LR  0.773167\n",
       "2    NB  0.371833\n",
       "3   SVC  0.816833\n",
       "4    DT  0.726500\n",
       "5    RF  0.815333"
      ]
     },
     "execution_count": 17,
     "metadata": {},
     "output_type": "execute_result"
    }
   ],
   "source": [
    "six_basic_models_val"
   ]
  },
  {
   "cell_type": "code",
   "execution_count": 18,
   "metadata": {},
   "outputs": [],
   "source": [
    "from sklearn.datasets import make_classification\n",
    "from sklearn.metrics import plot_confusion_matrix, plot_roc_curve, classification_report"
   ]
  },
  {
   "cell_type": "code",
   "execution_count": 19,
   "metadata": {},
   "outputs": [
    {
     "name": "stdout",
     "output_type": "stream",
     "text": [
      "              precision    recall  f1-score   support\n",
      "\n",
      "           0       0.82      0.96      0.88      4639\n",
      "           1       0.66      0.30      0.41      1361\n",
      "\n",
      "    accuracy                           0.81      6000\n",
      "   macro avg       0.74      0.63      0.65      6000\n",
      "weighted avg       0.79      0.81      0.78      6000\n",
      "\n"
     ]
    },
    {
     "data": {
      "image/png": "[encoded data removed]",
      "text/plain": [
       "<Figure size 504x504 with 2 Axes>"
      ]
     },
     "metadata": {
      "needs_background": "light"
     },
     "output_type": "display_data"
    }
   ],
   "source": [
    "y_preds = knn.predict(x_val_preprocessed_scaled)\n",
    "print(classification_report(y_val, y_preds))\n",
    "fig, ax = plt.subplots(figsize=(7, 7))\n",
    "plot_confusion_matrix(knn, x_val_preprocessed_scaled, y_val, ax=ax)\n",
    "plt.title('KNN');"
   ]
  },
  {
   "cell_type": "code",
   "execution_count": 20,
   "metadata": {},
   "outputs": [
    {
     "name": "stdout",
     "output_type": "stream",
     "text": [
      "              precision    recall  f1-score   support\n",
      "\n",
      "           0       0.77      1.00      0.87      4639\n",
      "           1       0.50      0.00      0.00      1361\n",
      "\n",
      "    accuracy                           0.77      6000\n",
      "   macro avg       0.64      0.50      0.44      6000\n",
      "weighted avg       0.71      0.77      0.67      6000\n",
      "\n"
     ]
    },
    {
     "data": {
      "image/png": "[encoded data removed]",
      "text/plain": [
       "<Figure size 504x504 with 2 Axes>"
      ]
     },
     "metadata": {
      "needs_background": "light"
     },
     "output_type": "display_data"
    }
   ],
   "source": [
    "y_preds = lr.predict(x_val_preprocessed)\n",
    "print(classification_report(y_val, y_preds))\n",
    "fig, ax = plt.subplots(figsize=(7, 7))\n",
    "plot_confusion_matrix(lr, x_val_preprocessed, y_val, ax=ax)\n",
    "plt.title('LR');"
   ]
  },
  {
   "cell_type": "code",
   "execution_count": 21,
   "metadata": {},
   "outputs": [
    {
     "name": "stdout",
     "output_type": "stream",
     "text": [
      "              precision    recall  f1-score   support\n",
      "\n",
      "           0       0.87      0.22      0.35      4639\n",
      "           1       0.25      0.89      0.39      1361\n",
      "\n",
      "    accuracy                           0.37      6000\n",
      "   macro avg       0.56      0.55      0.37      6000\n",
      "weighted avg       0.73      0.37      0.36      6000\n",
      "\n"
     ]
    },
    {
     "data": {
      "image/png": "[encoded data removed]",
      "text/plain": [
       "<Figure size 504x504 with 2 Axes>"
      ]
     },
     "metadata": {
      "needs_background": "light"
     },
     "output_type": "display_data"
    }
   ],
   "source": [
    "y_preds = nb.predict(x_val_preprocessed)\n",
    "print(classification_report(y_val, y_preds))\n",
    "fig, ax = plt.subplots(figsize=(7, 7))\n",
    "plot_confusion_matrix(nb, x_val_preprocessed, y_val, ax=ax)\n",
    "plt.title('NB');"
   ]
  },
  {
   "cell_type": "code",
   "execution_count": 22,
   "metadata": {},
   "outputs": [
    {
     "name": "stdout",
     "output_type": "stream",
     "text": [
      "              precision    recall  f1-score   support\n",
      "\n",
      "           0       0.83      0.96      0.89      4639\n",
      "           1       0.70      0.34      0.46      1361\n",
      "\n",
      "    accuracy                           0.82      6000\n",
      "   macro avg       0.76      0.65      0.67      6000\n",
      "weighted avg       0.80      0.82      0.79      6000\n",
      "\n"
     ]
    },
    {
     "data": {
      "image/png": "[encoded data removed]",
      "text/plain": [
       "<Figure size 504x504 with 2 Axes>"
      ]
     },
     "metadata": {
      "needs_background": "light"
     },
     "output_type": "display_data"
    }
   ],
   "source": [
    "y_preds =svc.predict(x_val_preprocessed_scaled)\n",
    "print(classification_report(y_val, y_preds))\n",
    "fig, ax = plt.subplots(figsize=(7, 7))\n",
    "plot_confusion_matrix(svc, x_val_preprocessed_scaled, y_val, ax=ax)\n",
    "plt.title('SVC');"
   ]
  },
  {
   "cell_type": "code",
   "execution_count": 23,
   "metadata": {},
   "outputs": [
    {
     "name": "stdout",
     "output_type": "stream",
     "text": [
      "              precision    recall  f1-score   support\n",
      "\n",
      "           0       0.83      0.82      0.82      4639\n",
      "           1       0.40      0.42      0.41      1361\n",
      "\n",
      "    accuracy                           0.73      6000\n",
      "   macro avg       0.61      0.62      0.62      6000\n",
      "weighted avg       0.73      0.73      0.73      6000\n",
      "\n"
     ]
    },
    {
     "data": {
      "image/png": "[encoded data removed]",
      "text/plain": [
       "<Figure size 504x504 with 2 Axes>"
      ]
     },
     "metadata": {
      "needs_background": "light"
     },
     "output_type": "display_data"
    }
   ],
   "source": [
    "y_preds =dt.predict(x_val_preprocessed)\n",
    "print(classification_report(y_val, y_preds))\n",
    "fig, ax = plt.subplots(figsize=(7, 7))\n",
    "plot_confusion_matrix(dt, x_val_preprocessed, y_val, ax=ax)\n",
    "plt.title('DT');"
   ]
  },
  {
   "cell_type": "code",
   "execution_count": 24,
   "metadata": {},
   "outputs": [
    {
     "name": "stdout",
     "output_type": "stream",
     "text": [
      "              precision    recall  f1-score   support\n",
      "\n",
      "           0       0.84      0.94      0.89      4639\n",
      "           1       0.65      0.40      0.49      1361\n",
      "\n",
      "    accuracy                           0.82      6000\n",
      "   macro avg       0.75      0.67      0.69      6000\n",
      "weighted avg       0.80      0.82      0.80      6000\n",
      "\n"
     ]
    },
    {
     "data": {
      "image/png": "[encoded data removed]",
      "text/plain": [
       "<Figure size 504x504 with 2 Axes>"
      ]
     },
     "metadata": {
      "needs_background": "light"
     },
     "output_type": "display_data"
    }
   ],
   "source": [
    "y_preds =rf.predict(x_val_preprocessed)\n",
    "print(classification_report(y_val, y_preds))\n",
    "fig, ax = plt.subplots(figsize=(7, 7))\n",
    "plot_confusion_matrix(rf, x_val_preprocessed, y_val, ax=ax)\n",
    "plt.title('RF');"
   ]
  },
  {
   "cell_type": "code",
   "execution_count": null,
   "metadata": {},
   "outputs": [],
   "source": []
  },
  {
   "cell_type": "code",
   "execution_count": 49,
   "metadata": {},
   "outputs": [
    {
     "name": "stdout",
     "output_type": "stream",
     "text": [
      "ROC AUC score =  0.7351312919139538\n"
     ]
    },
    {
     "data": {
      "image/png": "[encoded data removed]",
      "text/plain": [
       "<Figure size 432x288 with 1 Axes>"
      ]
     },
     "metadata": {
      "needs_background": "light"
     },
     "output_type": "display_data"
    }
   ],
   "source": [
    "from sklearn.metrics import roc_auc_score, roc_curve\n",
    "\n",
    "knn_fpr, knn_tpr, knn_thresholds = roc_curve(y_val, knn.predict_proba(x_val_preprocessed_scaled)[:,1])\n",
    "lr_fpr, lr_tpr, lr_thresholds = roc_curve(y_val, lr.predict_proba(x_val_preprocessed)[:,1])\n",
    "nb_fpr, nb_tpr, nb_thresholds = roc_curve(y_val, nb.predict_proba(x_val_preprocessed)[:,1])\n",
    "svc_fpr, svc_tpr, svc_thresholds = roc_curve(y_val, svc.predict_proba(x_val_preprocessed_scaled)[:,1])\n",
    "dt_fpr, dt_tpr, dt_thresholds = roc_curve(y_val, dt.predict_proba(x_val_preprocessed)[:,1])\n",
    "rf_fpr, rf_tpr, rf_thresholds = roc_curve(y_val, rf.predict_proba(x_val_preprocessed)[:,1])\n",
    "\n",
    "plt.plot(knn_fpr, knn_tpr,lw=2, label='knn')\n",
    "plt.plot(lr_fpr, lr_tpr,lw=2, label='lr')\n",
    "plt.plot(nb_fpr, nb_tpr,lw=2, label='nb')\n",
    "plt.plot(svc_fpr, svc_tpr,lw=2, label='svc')\n",
    "plt.plot(dt_fpr, dt_tpr,lw=2, label='dt')\n",
    "plt.plot(rf_fpr, rf_tpr,lw=2, label='rf')\n",
    "\n",
    "plt.plot([0,1],[0,1],c='violet',ls='--')\n",
    "plt.xlim([-0.05,1.05])\n",
    "plt.ylim([-0.05,1.05])\n",
    "\n",
    "plt.legend(loc='lower right')\n",
    "plt.xlabel('False positive rate')\n",
    "plt.ylabel('True positive rate')\n",
    "plt.title('ROC curve for fraud problem');"
   ]
  },
  {
   "cell_type": "code",
   "execution_count": 50,
   "metadata": {},
   "outputs": [
    {
     "name": "stdout",
     "output_type": "stream",
     "text": [
      "KNN ROC AUC score =  0.7351312919139538\n",
      "LR ROC AUC score =  0.6527332162436513\n",
      "NB ROC AUC score =  0.6636244889865323\n",
      "SVC ROC AUC score =  0.7229330157583241\n",
      "DT ROC AUC score =  0.6205509497711239\n",
      "RF ROC AUC score =  0.7577498792700736\n"
     ]
    }
   ],
   "source": [
    "print(\"KNN ROC AUC score = \", roc_auc_score(y_val, knn.predict_proba(x_val_preprocessed_scaled)[:,1]))\n",
    "print(\"LR ROC AUC score = \", roc_auc_score(y_val, lr.predict_proba(x_val_preprocessed)[:,1]))\n",
    "print(\"NB ROC AUC score = \", roc_auc_score(y_val, nb.predict_proba(x_val_preprocessed)[:,1]))\n",
    "print(\"SVC ROC AUC score = \", roc_auc_score(y_val, svc.predict_proba(x_val_preprocessed_scaled)[:,1]))\n",
    "print(\"DT ROC AUC score = \", roc_auc_score(y_val, dt.predict_proba(x_val_preprocessed)[:,1]))\n",
    "print(\"RF ROC AUC score = \", roc_auc_score(y_val, rf.predict_proba(x_val_preprocessed)[:,1]))"
   ]
  },
  {
   "cell_type": "code",
   "execution_count": null,
   "metadata": {},
   "outputs": [],
   "source": []
  },
  {
   "cell_type": "code",
   "execution_count": null,
   "metadata": {},
   "outputs": [],
   "source": []
  },
  {
   "cell_type": "code",
   "execution_count": null,
   "metadata": {},
   "outputs": [],
   "source": []
  }
 ],
 "metadata": {
  "kernelspec": {
   "display_name": "Python 3",
   "language": "python",
   "name": "python3"
  },
  "language_info": {
   "codemirror_mode": {
    "name": "ipython",
    "version": 3
   },
   "file_extension": ".py",
   "mimetype": "text/x-python",
   "name": "python",
   "nbconvert_exporter": "python",
   "pygments_lexer": "ipython3",
   "version": "3.8.3"
  }
 },
 "nbformat": 4,
 "nbformat_minor": 4
}
