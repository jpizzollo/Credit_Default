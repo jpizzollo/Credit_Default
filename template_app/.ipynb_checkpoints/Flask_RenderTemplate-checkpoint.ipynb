{
 "cells": [
  {
   "cell_type": "code",
   "execution_count": 1,
   "metadata": {},
   "outputs": [],
   "source": [
    "import flask\n",
    "import numpy as np\n",
    "import pandas as pd\n",
    "import pickle"
   ]
  },
  {
   "cell_type": "code",
   "execution_count": 2,
   "metadata": {},
   "outputs": [],
   "source": [
    "with open('rf_model','rb') as read_file:\n",
    "    rf = pickle.load(read_file)"
   ]
  },
  {
   "cell_type": "code",
   "execution_count": 3,
   "metadata": {},
   "outputs": [],
   "source": [
    "def shape_data(flask_args):\n",
    "    sex = flask_args.get('Sex')\n",
    "    education = flask_args.get('Education')\n",
    "    marriage = flask_args.get('Marriage')\n",
    "    age = flask_args.get('Age')\n",
    "    limit = flask_args.get('Credit Limit')\n",
    "    d1 = flask_args.get('Debt_1')\n",
    "    d2 = flask_args.get('Debt_2')\n",
    "    d3 = flask_args.get('Debt_3')\n",
    "    d4 = flask_args.get('Debt_4')\n",
    "    d5 = flask_args.get('Debt_5')\n",
    "    Sex_Male = 0\n",
    "    Sex_Female = 0 \n",
    "    Education_Graduate = 0\n",
    "    Education_High_School = 0\n",
    "    Education_Others = 0 \n",
    "    Education_University = 0\n",
    "    Marriage_Married = 0\n",
    "    Marriage_Single = 0\n",
    "    Marriage_Others = 0\n",
    "    if sex == 'Male':\n",
    "        Sex_Male = 1   \n",
    "    elif sex == 'Female': \n",
    "        Sex_Female = 1\n",
    "    if education == 'Graduate':\n",
    "        Education_Graduate = 1\n",
    "    elif education == 'University':\n",
    "        Education_University = 1\n",
    "    elif education == 'High_School':\n",
    "        Education_High_School = 1\n",
    "    elif education == 'Others':\n",
    "        Education_Others = 1 \n",
    "    if marriage == 'Married':\n",
    "        Marriage_Married = 1\n",
    "    elif marriage == 'Single':\n",
    "        Marriage_Married = 1\n",
    "    elif marriage == 'Others':\n",
    "        Marriage_Married = 1\n",
    "\n",
    "    tmp_tuple = (limit, age, d1, d2, d3, d4, d5, Sex_Female, Sex_Male, Education_Graduate, Education_High_School,\\\n",
    "                Education_Others, Education_University, Marriage_Married, Marriage_Others, Marriage_Single)\n",
    "    \n",
    "    return np.array(tmp_tuple).reshape(1,-1)"
   ]
  },
  {
   "cell_type": "code",
   "execution_count": null,
   "metadata": {
    "scrolled": false
   },
   "outputs": [
    {
     "name": "stdout",
     "output_type": "stream",
     "text": [
      " * Serving Flask app \"__main__\" (lazy loading)\n",
      " * Environment: production\n",
      "\u001b[31m   WARNING: This is a development server. Do not use it in a production deployment.\u001b[0m\n",
      "\u001b[2m   Use a production WSGI server instead.\u001b[0m\n",
      " * Debug mode: off\n"
     ]
    },
    {
     "name": "stderr",
     "output_type": "stream",
     "text": [
      " * Running on http://127.0.0.1:5000/ (Press CTRL+C to quit)\n",
      "[2020-10-27 10:03:53,321] ERROR in app: Exception on / [GET]\n",
      "Traceback (most recent call last):\n",
      "  File \"/Users/Jay/opt/anaconda3/lib/python3.8/site-packages/flask/app.py\", line 2447, in wsgi_app\n",
      "    response = self.full_dispatch_request()\n",
      "  File \"/Users/Jay/opt/anaconda3/lib/python3.8/site-packages/flask/app.py\", line 1952, in full_dispatch_request\n",
      "    rv = self.handle_user_exception(e)\n",
      "  File \"/Users/Jay/opt/anaconda3/lib/python3.8/site-packages/flask/app.py\", line 1821, in handle_user_exception\n",
      "    reraise(exc_type, exc_value, tb)\n",
      "  File \"/Users/Jay/opt/anaconda3/lib/python3.8/site-packages/flask/_compat.py\", line 39, in reraise\n",
      "    raise value\n",
      "  File \"/Users/Jay/opt/anaconda3/lib/python3.8/site-packages/flask/app.py\", line 1950, in full_dispatch_request\n",
      "    rv = self.dispatch_request()\n",
      "  File \"/Users/Jay/opt/anaconda3/lib/python3.8/site-packages/flask/app.py\", line 1936, in dispatch_request\n",
      "    return self.view_functions[rule.endpoint](**req.view_args)\n",
      "  File \"<ipython-input-4-c85d339602ea>\", line 10, in hello_world\n",
      "    return flask.render_template('predictor.html',features=['Sex','Education','Marriage','Age',\\\n",
      "  File \"/Users/Jay/opt/anaconda3/lib/python3.8/site-packages/flask/templating.py\", line 138, in render_template\n",
      "    ctx.app.jinja_env.get_or_select_template(template_name_or_list),\n",
      "  File \"/Users/Jay/opt/anaconda3/lib/python3.8/site-packages/jinja2/environment.py\", line 930, in get_or_select_template\n",
      "    return self.get_template(template_name_or_list, parent, globals)\n",
      "  File \"/Users/Jay/opt/anaconda3/lib/python3.8/site-packages/jinja2/environment.py\", line 883, in get_template\n",
      "    return self._load_template(name, self.make_globals(globals))\n",
      "  File \"/Users/Jay/opt/anaconda3/lib/python3.8/site-packages/jinja2/environment.py\", line 857, in _load_template\n",
      "    template = self.loader.load(self, name, globals)\n",
      "  File \"/Users/Jay/opt/anaconda3/lib/python3.8/site-packages/jinja2/loaders.py\", line 127, in load\n",
      "    code = environment.compile(source, name, filename)\n",
      "  File \"/Users/Jay/opt/anaconda3/lib/python3.8/site-packages/jinja2/environment.py\", line 638, in compile\n",
      "    self.handle_exception(source=source_hint)\n",
      "  File \"/Users/Jay/opt/anaconda3/lib/python3.8/site-packages/jinja2/environment.py\", line 832, in handle_exception\n",
      "    reraise(*rewrite_traceback_stack(source=source))\n",
      "  File \"/Users/Jay/opt/anaconda3/lib/python3.8/site-packages/jinja2/_compat.py\", line 28, in reraise\n",
      "    raise value.with_traceback(tb)\n",
      "  File \"/Users/Jay/Documents/Git/Credit_Default/template_app/templates/predictor.html\", line 24, in template\n",
      "    {{% prediction %}}\n",
      "jinja2.exceptions.TemplateSyntaxError: unexpected '%'\n",
      "127.0.0.1 - - [27/Oct/2020 10:03:53] \"\u001b[35m\u001b[1mGET / HTTP/1.1\u001b[0m\" 500 -\n"
     ]
    }
   ],
   "source": [
    "# minimal example from:\n",
    "# http://flask.pocoo.org/docs/quickstart/\n",
    "\n",
    "import flask\n",
    "\n",
    "app = flask.Flask(__name__)  # create instance of Flask class\n",
    "\n",
    "@app.route('/')  # the site to route to, index/main in this case\n",
    "def hello_world():\n",
    "    return flask.render_template('predictor.html',features=['Sex','Education','Marriage','Age',\\\n",
    "                                                            'Credit Limit','Debt_1','Debt_2','Debt_3',\\\n",
    "                                                            'Debt_4','Debt_5'])\n",
    "\n",
    "@app.route(\"/predict\")\n",
    "def predict():\n",
    "    input_param = shape_data(flask.request.args)\n",
    "   \n",
    "    p = rf.predict_proba(input_param)[0,1]\n",
    "    \n",
    "    return flask.render_template('predictor.html',features=['Sex','Education','Marriage','Age',\\\n",
    "                                                            'Credit Limit','Debt_1','Debt_2','Debt_3',\\\n",
    "                                                            'Debt_4','Debt_5'],prediction=p)\n",
    "if __name__ == '__main__':\n",
    "    app.run()"
   ]
  },
  {
   "cell_type": "code",
   "execution_count": null,
   "metadata": {},
   "outputs": [],
   "source": [
    "tmp_tuple = (40000, 30, 0, 0, 20000, 20000, 3000, 0, 1, 0, 0,\\\n",
    "                0, 1, 0, 0, 1)"
   ]
  },
  {
   "cell_type": "code",
   "execution_count": null,
   "metadata": {},
   "outputs": [],
   "source": [
    "type(tmp_tuple)"
   ]
  },
  {
   "cell_type": "code",
   "execution_count": null,
   "metadata": {},
   "outputs": [],
   "source": [
    "type(np.array(tmp_tuple).reshape(1,-1))"
   ]
  },
  {
   "cell_type": "code",
   "execution_count": null,
   "metadata": {},
   "outputs": [],
   "source": [
    "type(rf.predict_proba(np.array(tmp_tuple).reshape(1,-1))[0,1])"
   ]
  },
  {
   "cell_type": "code",
   "execution_count": null,
   "metadata": {},
   "outputs": [],
   "source": []
  }
 ],
 "metadata": {
  "kernelspec": {
   "display_name": "Python 3",
   "language": "python",
   "name": "python3"
  },
  "language_info": {
   "codemirror_mode": {
    "name": "ipython",
    "version": 3
   },
   "file_extension": ".py",
   "mimetype": "text/x-python",
   "name": "python",
   "nbconvert_exporter": "python",
   "pygments_lexer": "ipython3",
   "version": "3.8.3"
  }
 },
 "nbformat": 4,
 "nbformat_minor": 2
}
